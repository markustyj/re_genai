{
 "cells": [
  {
   "cell_type": "code",
   "execution_count": 101,
   "id": "6cdeb720-13ef-4a7c-a04d-7abe1337f96a",
   "metadata": {},
   "outputs": [],
   "source": [
    "import os \n",
    "import time\n",
    "import requests  \n",
    "import json  \n",
    "import openai\n",
    "import numpy as np\n",
    "from openai import OpenAI\n",
    "#from prompt_construction import read_prompt_list ,  prompt_construction module is not available here\n",
    "\n",
    "api_key = os.environ[\"OPENAI_API_KEY\"]  \n",
    "\n",
    "%reload_ext autoreload\n",
    "%autoreload 2"
   ]
  },
  {
   "cell_type": "code",
   "execution_count": 102,
   "id": "fc895f26-0060-4257-b2a0-e58b054662dc",
   "metadata": {},
   "outputs": [],
   "source": [
    "# Define the API endpoint URL  \n",
    "def get_response_siemens_api(url, model, max_token, user_content, system_content):  \n",
    "    # Define the request headers  \n",
    "    headers = {  \n",
    "        'accept': 'application/json',  \n",
    "        'Authorization': 'Bearer {}'.format(api_key),  \n",
    "        'Content-Type': 'application/json'  \n",
    "    }  \n",
    "\n",
    "    # Define the request payload  \n",
    "    payload = {  \n",
    "        'model': model,  \n",
    "        'messages': [  \n",
    "            {'role': 'user', 'content': user_content },\n",
    "            {'role': 'system', 'content': system_content}           \n",
    "        ],  \n",
    "        'temperature': 0,  \n",
    "        'stream': False,  \n",
    "        'max_tokens': max_token          \n",
    "    }  \n",
    "      \n",
    "    # Make the POST request  \n",
    "    response = requests.post(url, headers=headers, data=json.dumps(payload))  \n",
    "      \n",
    "    # Print the response  \n",
    "    return print(response.json()[\"choices\"][0][\"message\"][\"content\"])\n"
   ]
  },
  {
   "cell_type": "code",
   "execution_count": 103,
   "id": "fe1ed575-1edd-424b-93fc-4088a744cbf5",
   "metadata": {},
   "outputs": [
    {
     "name": "stdout",
     "output_type": "stream",
     "text": [
      " {The system shall refresh the display every 60 seconds: functional requirement}\n"
     ]
    }
   ],
   "source": [
    "url = 'https://api.siemens.com/llm/chat/completions'  \n",
    "model = 'mistral-7b-instruct'\n",
    "max_token = 100\n",
    "user_content = (\"Please classify the given requirement into 'functional requirement' or 'non-functional requirement'. \"\n",
    "                \"The answer should be in format {the given requirement: functional requirement or non-functional requirement}.\"\n",
    "                \"The given requirement: The system shall refresh the display every 60 seconds.\" )\n",
    "system_content = (\"You are a senior software engineer who is experienced in software requirement classification! \" )\n",
    "\n",
    "get_response_siemens_api(url, model, max_token, user_content, system_content)"
   ]
  },
  {
   "cell_type": "markdown",
   "id": "ddfd9e6e-eb26-42f8-8e58-77363b45e2ff",
   "metadata": {},
   "source": [
    "# define useful functions"
   ]
  },
  {
   "cell_type": "code",
   "execution_count": 104,
   "id": "29d5f0de-36b4-4174-8106-efbc53c31827",
   "metadata": {},
   "outputs": [],
   "source": [
    "# Define the API endpoint URL  \n",
    "def get_response_siemens_api(prompt):  \n",
    "    # Define the request headers  \n",
    "    headers = {  \n",
    "        'accept': 'application/json',  \n",
    "        'Authorization': 'Bearer {}'.format(api_key),  \n",
    "        'Content-Type': 'application/json'  \n",
    "    }  \n",
    "\n",
    "    # Define the request payload  \n",
    "    payload = {  \n",
    "        'model': 'mistral-7b-instruct',  \n",
    "        'messages': [  \n",
    "            {'role': 'user', 'content': prompt },\n",
    "            {'role': 'system', 'content': \"You are a senior software engineer who is experienced in software requirement classification! \"}           \n",
    "        ],  \n",
    "        'temperature': 0,  \n",
    "        'stream': False,  \n",
    "        'max_tokens': 12000          \n",
    "    }  \n",
    "      \n",
    "    # Make the POST request  \n",
    "    url = 'https://api.siemens.com/llm/chat/completions'  \n",
    "    response = requests.post(url, headers=headers, data=json.dumps(payload))  \n",
    "      \n",
    "    # Print the response  \n",
    "    return response.json()[\"choices\"][0][\"message\"][\"content\"]\n"
   ]
  },
  {
   "cell_type": "code",
   "execution_count": 105,
   "id": "a397408b-9701-41d8-b51d-f2d97b98384d",
   "metadata": {},
   "outputs": [],
   "source": [
    "def get_completion(prompt_list, save_path):\n",
    "    \"\"\"load the prompt_list, get the completion from llm, and save the results.\"\"\"\n",
    "\n",
    "    start_time = time.time()  \n",
    "    \n",
    "    completion_list = []\n",
    "    for i, prompt in enumerate(prompt_list):\n",
    "        #print(\"The prompt: \" + prompt + \"\\n######\")\n",
    "     \n",
    "        j = 0\n",
    "        while j < 50:\n",
    "            try:   \n",
    "                completion = get_response_siemens_api(prompt)\n",
    "                #print(completion)\n",
    "                completion_list.append(completion)\n",
    "                break\n",
    "        \n",
    "            except: #InvalidRequestError: in case that the prompt and output reach the token limitation\n",
    "                #print(\"{}th prompt, Connection error: try again automatically\".format(i) )\n",
    "                time.sleep(5)  # stop 1 second to avoid error\n",
    "            j = j+1   \n",
    "            \n",
    "        if j == 50:\n",
    "            print(\"{}th prompt. At least one prompt did not get the result.\".format(j))\n",
    "            break\n",
    "\n",
    "        # completion = get_response_siemens_api(prompt)\n",
    "        # #print(completion)\n",
    "        # completion_list.append(completion)\n",
    "        # break\n",
    "        \n",
    "\n",
    "\n",
    "    save_completion_list(save_path, completion_list)\n",
    "\n",
    "    # calculate the execution time\n",
    "    end_time = time.time()  \n",
    "    print(\"execution time: {}\".format(end_time - start_time), \"second\")"
   ]
  },
  {
   "cell_type": "code",
   "execution_count": 106,
   "id": "c34795f0-dafb-4913-a5a4-53ebf58ae324",
   "metadata": {},
   "outputs": [],
   "source": [
    "def read_prompt_list(path):\n",
    "    \"\"\"read the saved list of prompts \n",
    "    input\n",
    "        path, string path to save the list\n",
    "    \"\"\"\n",
    "    with open(path, 'r') as file:  \n",
    "        content = file.read()  \n",
    "    prompt_list_read = content.split('\\n\\n\\n')   \n",
    "\n",
    "    return prompt_list_read\n"
   ]
  },
  {
   "cell_type": "code",
   "execution_count": 107,
   "id": "24528232-7a64-4835-ba40-74f75a554eb9",
   "metadata": {},
   "outputs": [],
   "source": [
    "def save_completion_list(path, completion_list):\n",
    "    \"\"\"save the constructed prompts with few-shot examples in a list \n",
    "    input\n",
    "        path, string path to save the list\n",
    "        prompt_list, list of constructed prompts from the first requirement/sentence in test dataset to the last one\n",
    "    \"\"\"\n",
    "    with open(path, 'w', newline='\\n') as file:  \n",
    "        for i, completion in enumerate(completion_list):\n",
    "            if i+1 == len(completion_list):\n",
    "                file.write(completion)\n",
    "            else:     \n",
    "                file.write(completion + \"\\n\\n\\n\")"
   ]
  },
  {
   "cell_type": "code",
   "execution_count": null,
   "id": "f1bf266a-5a96-4e97-8ecb-977cdf1a94cc",
   "metadata": {},
   "outputs": [],
   "source": []
  },
  {
   "cell_type": "markdown",
   "id": "549eeaef-8848-4c9d-8a9c-275b4037a031",
   "metadata": {},
   "source": [
    "# get completion on promise dataset"
   ]
  },
  {
   "cell_type": "markdown",
   "id": "2ceba54a-8456-4957-ad1a-b4c0ca9725b9",
   "metadata": {},
   "source": [
    "## binary classification"
   ]
  },
  {
   "cell_type": "code",
   "execution_count": 53,
   "id": "ef15299f-d504-4db4-bab2-4fce40713fb8",
   "metadata": {},
   "outputs": [
    {
     "name": "stdout",
     "output_type": "stream",
     "text": [
      "execution time: 109.59332823753357 second\n"
     ]
    }
   ],
   "source": [
    "path_in = \"/Users/yongjiantang/Desktop/tang/code/re_genai/processed_prompts/prompt_promise_random_0_bi.txt\"\n",
    "prompt_list = read_prompt_list(path_in)\n",
    "save_path = \"/Users/yongjiantang/Desktop/tang/code/re_genai/completions/mistral_7b/completion_promise_random_0_bi.txt\"\n",
    "get_completion(prompt_list, save_path)"
   ]
  },
  {
   "cell_type": "code",
   "execution_count": 54,
   "id": "d0af338b-c0be-433c-9040-4fa2abb5b1b5",
   "metadata": {},
   "outputs": [
    {
     "name": "stdout",
     "output_type": "stream",
     "text": [
      "execution time: 123.91648483276367 second\n"
     ]
    }
   ],
   "source": [
    "path_in = \"/Users/yongjiantang/Desktop/tang/code/re_genai/processed_prompts/prompt_promise_random_5_bi.txt\"\n",
    "prompt_list = read_prompt_list(path_in)\n",
    "save_path = \"/Users/yongjiantang/Desktop/tang/code/re_genai/completions/mistral_7b/completion_promise_random_5_bi.txt\"\n",
    "get_completion(prompt_list, save_path)"
   ]
  },
  {
   "cell_type": "code",
   "execution_count": 55,
   "id": "1a0da3e7-1c6a-4732-b703-4718dfca41b4",
   "metadata": {},
   "outputs": [
    {
     "name": "stdout",
     "output_type": "stream",
     "text": [
      "execution time: 119.93200516700745 second\n"
     ]
    }
   ],
   "source": [
    "path_in = \"/Users/yongjiantang/Desktop/tang/code/re_genai/processed_prompts/prompt_promise_random_10_bi.txt\"\n",
    "prompt_list = read_prompt_list(path_in)\n",
    "save_path = \"/Users/yongjiantang/Desktop/tang/code/re_genai/completions/mistral_7b/completion_promise_random_10_bi.txt\"\n",
    "get_completion(prompt_list, save_path)"
   ]
  },
  {
   "cell_type": "code",
   "execution_count": 56,
   "id": "91e926f3-3af6-428a-b9da-3e1f559a5341",
   "metadata": {},
   "outputs": [
    {
     "name": "stdout",
     "output_type": "stream",
     "text": [
      "execution time: 122.57221627235413 second\n"
     ]
    }
   ],
   "source": [
    "path_in = \"/Users/yongjiantang/Desktop/tang/code/re_genai/processed_prompts/prompt_promise_random_20_bi.txt\"\n",
    "prompt_list = read_prompt_list(path_in)\n",
    "save_path = \"/Users/yongjiantang/Desktop/tang/code/re_genai/completions/mistral_7b/completion_promise_random_20_bi.txt\"\n",
    "get_completion(prompt_list, save_path)"
   ]
  },
  {
   "cell_type": "code",
   "execution_count": 57,
   "id": "1a4fd697-e754-451c-8a26-e610bf6bd481",
   "metadata": {},
   "outputs": [
    {
     "name": "stdout",
     "output_type": "stream",
     "text": [
      "execution time: 121.00452280044556 second\n"
     ]
    }
   ],
   "source": [
    "path_in = \"/Users/yongjiantang/Desktop/tang/code/re_genai/processed_prompts/prompt_promise_random_40_bi.txt\"\n",
    "prompt_list = read_prompt_list(path_in)\n",
    "save_path = \"/Users/yongjiantang/Desktop/tang/code/re_genai/completions/mistral_7b/completion_promise_random_40_bi.txt\"\n",
    "get_completion(prompt_list, save_path)"
   ]
  },
  {
   "cell_type": "code",
   "execution_count": 58,
   "id": "3f658de3-f3e5-47ff-a18f-918b23af6103",
   "metadata": {},
   "outputs": [
    {
     "name": "stdout",
     "output_type": "stream",
     "text": [
      "execution time: 122.31055903434753 second\n"
     ]
    }
   ],
   "source": [
    "path_in = \"/Users/yongjiantang/Desktop/tang/code/re_genai/processed_prompts/prompt_promise_random_80_bi.txt\"\n",
    "prompt_list = read_prompt_list(path_in)\n",
    "save_path = \"/Users/yongjiantang/Desktop/tang/code/re_genai/completions/mistral_7b/completion_promise_random_80_bi.txt\"\n",
    "get_completion(prompt_list, save_path)"
   ]
  },
  {
   "cell_type": "code",
   "execution_count": 108,
   "id": "f0662348-bc7a-4cfe-8f09-8d595ee9e593",
   "metadata": {},
   "outputs": [
    {
     "name": "stdout",
     "output_type": "stream",
     "text": [
      "execution time: 122.77507400512695 second\n"
     ]
    }
   ],
   "source": [
    "path_in = \"/Users/yongjiantang/Desktop/tang/code/re_genai/processed_prompts/prompt_promise_random_160_bi.txt\"\n",
    "prompt_list = read_prompt_list(path_in)\n",
    "save_path = \"/Users/yongjiantang/Desktop/tang/code/re_genai/completions/mistral_7b/completion_promise_random_160_bi.txt\"\n",
    "get_completion(prompt_list, save_path)"
   ]
  },
  {
   "cell_type": "markdown",
   "id": "b6b5f949-6d89-4635-9866-af42514a4a20",
   "metadata": {},
   "source": [
    "#### binary embedding"
   ]
  },
  {
   "cell_type": "code",
   "execution_count": 59,
   "id": "dea9f465-64ed-4336-95b3-eb6b0392b66a",
   "metadata": {},
   "outputs": [
    {
     "name": "stdout",
     "output_type": "stream",
     "text": [
      "execution time: 117.28138899803162 second\n"
     ]
    }
   ],
   "source": [
    "path_in = \"/Users/yongjiantang/Desktop/tang/code/re_genai/processed_prompts/prompt_promise_embedding_0_bi.txt\"\n",
    "prompt_list = read_prompt_list(path_in)\n",
    "save_path = \"/Users/yongjiantang/Desktop/tang/code/re_genai/completions/mistral_7b/completion_promise_embedding_0_bi.txt\"\n",
    "get_completion(prompt_list, save_path)"
   ]
  },
  {
   "cell_type": "code",
   "execution_count": 60,
   "id": "5bfcb7f9-5a19-4824-8d38-1246da137ea0",
   "metadata": {},
   "outputs": [
    {
     "name": "stdout",
     "output_type": "stream",
     "text": [
      "execution time: 124.36202907562256 second\n"
     ]
    }
   ],
   "source": [
    "path_in = \"/Users/yongjiantang/Desktop/tang/code/re_genai/processed_prompts/prompt_promise_embedding_5_bi.txt\"\n",
    "prompt_list = read_prompt_list(path_in)\n",
    "save_path = \"/Users/yongjiantang/Desktop/tang/code/re_genai/completions/mistral_7b/completion_promise_embedding_5_bi.txt\"\n",
    "get_completion(prompt_list, save_path)"
   ]
  },
  {
   "cell_type": "code",
   "execution_count": 61,
   "id": "7a1f334b-4071-4b40-8692-e2cd703f1e3b",
   "metadata": {},
   "outputs": [
    {
     "name": "stdout",
     "output_type": "stream",
     "text": [
      "execution time: 122.3440887928009 second\n"
     ]
    }
   ],
   "source": [
    "path_in = \"/Users/yongjiantang/Desktop/tang/code/re_genai/processed_prompts/prompt_promise_embedding_10_bi.txt\"\n",
    "prompt_list = read_prompt_list(path_in)\n",
    "save_path = \"/Users/yongjiantang/Desktop/tang/code/re_genai/completions/mistral_7b/completion_promise_embedding_10_bi.txt\"\n",
    "get_completion(prompt_list, save_path)"
   ]
  },
  {
   "cell_type": "code",
   "execution_count": 62,
   "id": "240ab7c4-3791-46c0-8af5-9ce9afbda492",
   "metadata": {},
   "outputs": [
    {
     "name": "stdout",
     "output_type": "stream",
     "text": [
      "execution time: 122.39480924606323 second\n"
     ]
    }
   ],
   "source": [
    "path_in = \"/Users/yongjiantang/Desktop/tang/code/re_genai/processed_prompts/prompt_promise_embedding_20_bi.txt\"\n",
    "prompt_list = read_prompt_list(path_in)\n",
    "save_path = \"/Users/yongjiantang/Desktop/tang/code/re_genai/completions/mistral_7b/completion_promise_embedding_20_bi.txt\"\n",
    "get_completion(prompt_list, save_path)"
   ]
  },
  {
   "cell_type": "code",
   "execution_count": 63,
   "id": "094e84d5-997f-485d-9fb6-31aa56867ae5",
   "metadata": {},
   "outputs": [
    {
     "name": "stdout",
     "output_type": "stream",
     "text": [
      "execution time: 124.34133410453796 second\n"
     ]
    }
   ],
   "source": [
    "path_in = \"/Users/yongjiantang/Desktop/tang/code/re_genai/processed_prompts/prompt_promise_embedding_40_bi.txt\"\n",
    "prompt_list = read_prompt_list(path_in)\n",
    "save_path = \"/Users/yongjiantang/Desktop/tang/code/re_genai/completions/mistral_7b/completion_promise_embedding_40_bi.txt\"\n",
    "get_completion(prompt_list, save_path)"
   ]
  },
  {
   "cell_type": "code",
   "execution_count": 64,
   "id": "5b02fd94-8471-46a5-a6d1-02e67088f4f3",
   "metadata": {},
   "outputs": [
    {
     "name": "stdout",
     "output_type": "stream",
     "text": [
      "execution time: 128.29276990890503 second\n"
     ]
    }
   ],
   "source": [
    "path_in = \"/Users/yongjiantang/Desktop/tang/code/re_genai/processed_prompts/prompt_promise_embedding_80_bi.txt\"\n",
    "prompt_list = read_prompt_list(path_in)\n",
    "save_path = \"/Users/yongjiantang/Desktop/tang/code/re_genai/completions/mistral_7b/completion_promise_embedding_80_bi.txt\"\n",
    "get_completion(prompt_list, save_path)"
   ]
  },
  {
   "cell_type": "code",
   "execution_count": 109,
   "id": "604c9de3-2fdd-45e8-a7c2-33822642001c",
   "metadata": {},
   "outputs": [
    {
     "name": "stdout",
     "output_type": "stream",
     "text": [
      "execution time: 137.29553890228271 second\n"
     ]
    }
   ],
   "source": [
    "path_in = \"/Users/yongjiantang/Desktop/tang/code/re_genai/processed_prompts/prompt_promise_embedding_160_bi.txt\"\n",
    "prompt_list = read_prompt_list(path_in)\n",
    "save_path = \"/Users/yongjiantang/Desktop/tang/code/re_genai/completions/mistral_7b/completion_promise_embedding_160_bi.txt\"\n",
    "get_completion(prompt_list, save_path)"
   ]
  },
  {
   "cell_type": "markdown",
   "id": "ec3a8652-f316-4059-b9c3-e9620f318630",
   "metadata": {},
   "source": [
    "#### binary tfidf"
   ]
  },
  {
   "cell_type": "code",
   "execution_count": 91,
   "id": "c77cf3d6-c2c6-4337-bd31-07efbb877020",
   "metadata": {},
   "outputs": [
    {
     "name": "stdout",
     "output_type": "stream",
     "text": [
      "execution time: 115.91063594818115 second\n"
     ]
    }
   ],
   "source": [
    "path_in = \"/Users/yongjiantang/Desktop/tang/code/re_genai/processed_prompts/prompt_promise_tfidf_0_bi.txt\"\n",
    "prompt_list = read_prompt_list(path_in)\n",
    "save_path = \"/Users/yongjiantang/Desktop/tang/code/re_genai/completions/mistral_7b/completion_promise_tfidf_0_bi.txt\"\n",
    "get_completion(prompt_list, save_path)"
   ]
  },
  {
   "cell_type": "code",
   "execution_count": 92,
   "id": "7ea38a3b-d6e8-4b04-ac8a-e018ea6f226c",
   "metadata": {},
   "outputs": [
    {
     "name": "stdout",
     "output_type": "stream",
     "text": [
      "execution time: 121.88522005081177 second\n"
     ]
    }
   ],
   "source": [
    "path_in = \"/Users/yongjiantang/Desktop/tang/code/re_genai/processed_prompts/prompt_promise_tfidf_5_bi.txt\"\n",
    "prompt_list = read_prompt_list(path_in)\n",
    "save_path = \"/Users/yongjiantang/Desktop/tang/code/re_genai/completions/mistral_7b/completion_promise_tfidf_5_bi.txt\"\n",
    "get_completion(prompt_list, save_path)"
   ]
  },
  {
   "cell_type": "code",
   "execution_count": 93,
   "id": "31ff0de7-8d0e-4a99-bffa-5f3671a0aae1",
   "metadata": {},
   "outputs": [
    {
     "name": "stdout",
     "output_type": "stream",
     "text": [
      "execution time: 122.12191200256348 second\n"
     ]
    }
   ],
   "source": [
    "path_in = \"/Users/yongjiantang/Desktop/tang/code/re_genai/processed_prompts/prompt_promise_tfidf_10_bi.txt\"\n",
    "prompt_list = read_prompt_list(path_in)\n",
    "save_path = \"/Users/yongjiantang/Desktop/tang/code/re_genai/completions/mistral_7b/completion_promise_tfidf_10_bi.txt\"\n",
    "get_completion(prompt_list, save_path)"
   ]
  },
  {
   "cell_type": "code",
   "execution_count": 94,
   "id": "422038e9-7781-4f6f-8c23-15f098ab3d83",
   "metadata": {},
   "outputs": [
    {
     "name": "stdout",
     "output_type": "stream",
     "text": [
      "execution time: 122.25008893013 second\n"
     ]
    }
   ],
   "source": [
    "path_in = \"/Users/yongjiantang/Desktop/tang/code/re_genai/processed_prompts/prompt_promise_tfidf_20_bi.txt\"\n",
    "prompt_list = read_prompt_list(path_in)\n",
    "save_path = \"/Users/yongjiantang/Desktop/tang/code/re_genai/completions/mistral_7b/completion_promise_tfidf_20_bi.txt\"\n",
    "get_completion(prompt_list, save_path)"
   ]
  },
  {
   "cell_type": "code",
   "execution_count": 95,
   "id": "34adfc02-a48e-49d6-bbd2-8644b78ed73b",
   "metadata": {},
   "outputs": [
    {
     "name": "stdout",
     "output_type": "stream",
     "text": [
      "execution time: 120.33709502220154 second\n"
     ]
    }
   ],
   "source": [
    "path_in = \"/Users/yongjiantang/Desktop/tang/code/re_genai/processed_prompts/prompt_promise_tfidf_40_bi.txt\"\n",
    "prompt_list = read_prompt_list(path_in)\n",
    "save_path = \"/Users/yongjiantang/Desktop/tang/code/re_genai/completions/mistral_7b/completion_promise_tfidf_40_bi.txt\"\n",
    "get_completion(prompt_list, save_path)"
   ]
  },
  {
   "cell_type": "code",
   "execution_count": 96,
   "id": "9e923618-74e8-4ee6-a8f4-d404b731b537",
   "metadata": {},
   "outputs": [
    {
     "name": "stdout",
     "output_type": "stream",
     "text": [
      "execution time: 129.56676816940308 second\n"
     ]
    }
   ],
   "source": [
    "path_in = \"/Users/yongjiantang/Desktop/tang/code/re_genai/processed_prompts/prompt_promise_tfidf_80_bi.txt\"\n",
    "prompt_list = read_prompt_list(path_in)\n",
    "save_path = \"/Users/yongjiantang/Desktop/tang/code/re_genai/completions/mistral_7b/completion_promise_tfidf_80_bi.txt\"\n",
    "get_completion(prompt_list, save_path)"
   ]
  },
  {
   "cell_type": "code",
   "execution_count": 110,
   "id": "f1e1a3da-efb0-4e86-b856-aefdbb63d90b",
   "metadata": {},
   "outputs": [
    {
     "name": "stdout",
     "output_type": "stream",
     "text": [
      "execution time: 127.41378712654114 second\n"
     ]
    }
   ],
   "source": [
    "path_in = \"/Users/yongjiantang/Desktop/tang/code/re_genai/processed_prompts/prompt_promise_tfidf_160_bi.txt\"\n",
    "prompt_list = read_prompt_list(path_in)\n",
    "save_path = \"/Users/yongjiantang/Desktop/tang/code/re_genai/completions/mistral_7b/completion_promise_tfidf_160_bi.txt\"\n",
    "get_completion(prompt_list, save_path)"
   ]
  },
  {
   "cell_type": "markdown",
   "id": "b139d48f-3e1a-4eb2-bc9a-6d6ff2d30d44",
   "metadata": {},
   "source": [
    "## multi-class classification"
   ]
  },
  {
   "cell_type": "markdown",
   "id": "93bcefe5-f36c-45ef-81a4-fa2e8fc60563",
   "metadata": {},
   "source": [
    "#### promise multi-class random"
   ]
  },
  {
   "cell_type": "code",
   "execution_count": 71,
   "id": "f1d33dbc-b37e-4e31-88c9-f76526227269",
   "metadata": {},
   "outputs": [
    {
     "name": "stdout",
     "output_type": "stream",
     "text": [
      "execution time: 103.16644406318665 second\n"
     ]
    }
   ],
   "source": [
    "path_in = \"/Users/yongjiantang/Desktop/tang/code/re_genai/processed_prompts/prompt_promise_random_0.txt\"\n",
    "prompt_list = read_prompt_list(path_in)\n",
    "save_path = \"/Users/yongjiantang/Desktop/tang/code/re_genai/completions/mistral_7b/completion_promise_random_0.txt\"\n",
    "get_completion(prompt_list, save_path)"
   ]
  },
  {
   "cell_type": "code",
   "execution_count": 72,
   "id": "a9337cfd-e1c2-4671-a1ce-4e3f3ff63ecc",
   "metadata": {},
   "outputs": [
    {
     "name": "stdout",
     "output_type": "stream",
     "text": [
      "execution time: 123.59215784072876 second\n"
     ]
    }
   ],
   "source": [
    "path_in = \"/Users/yongjiantang/Desktop/tang/code/re_genai/processed_prompts/prompt_promise_random_5.txt\"\n",
    "prompt_list = read_prompt_list(path_in)\n",
    "save_path = \"/Users/yongjiantang/Desktop/tang/code/re_genai/completions/mistral_7b/completion_promise_random_5.txt\"\n",
    "get_completion(prompt_list, save_path)"
   ]
  },
  {
   "cell_type": "code",
   "execution_count": 73,
   "id": "f8631dec-cbc1-4f0c-b011-a1198a7f1548",
   "metadata": {},
   "outputs": [
    {
     "name": "stdout",
     "output_type": "stream",
     "text": [
      "execution time: 151.8356590270996 second\n"
     ]
    }
   ],
   "source": [
    "path_in = \"/Users/yongjiantang/Desktop/tang/code/re_genai/processed_prompts/prompt_promise_random_10.txt\"\n",
    "prompt_list = read_prompt_list(path_in)\n",
    "save_path = \"/Users/yongjiantang/Desktop/tang/code/re_genai/completions/mistral_7b/completion_promise_random_10.txt\"\n",
    "get_completion(prompt_list, save_path)"
   ]
  },
  {
   "cell_type": "code",
   "execution_count": 74,
   "id": "59afb6a1-d010-4320-8b06-977c595abe94",
   "metadata": {},
   "outputs": [
    {
     "name": "stdout",
     "output_type": "stream",
     "text": [
      "execution time: 124.51837396621704 second\n"
     ]
    }
   ],
   "source": [
    "path_in = \"/Users/yongjiantang/Desktop/tang/code/re_genai/processed_prompts/prompt_promise_random_20.txt\"\n",
    "prompt_list = read_prompt_list(path_in)\n",
    "save_path = \"/Users/yongjiantang/Desktop/tang/code/re_genai/completions/mistral_7b/completion_promise_random_20.txt\"\n",
    "get_completion(prompt_list, save_path)"
   ]
  },
  {
   "cell_type": "code",
   "execution_count": 75,
   "id": "a85e0342-4f77-45bd-b1a4-0a677ca093bc",
   "metadata": {},
   "outputs": [
    {
     "name": "stdout",
     "output_type": "stream",
     "text": [
      "execution time: 122.07912182807922 second\n"
     ]
    }
   ],
   "source": [
    "path_in = \"/Users/yongjiantang/Desktop/tang/code/re_genai/processed_prompts/prompt_promise_random_40.txt\"\n",
    "prompt_list = read_prompt_list(path_in)\n",
    "save_path = \"/Users/yongjiantang/Desktop/tang/code/re_genai/completions/mistral_7b/completion_promise_random_40.txt\"\n",
    "get_completion(prompt_list, save_path)"
   ]
  },
  {
   "cell_type": "code",
   "execution_count": 76,
   "id": "7c1afe4a-b1d9-4d88-936e-db3bc10eff2d",
   "metadata": {},
   "outputs": [
    {
     "name": "stdout",
     "output_type": "stream",
     "text": [
      "execution time: 120.85491275787354 second\n"
     ]
    }
   ],
   "source": [
    "path_in = \"/Users/yongjiantang/Desktop/tang/code/re_genai/processed_prompts/prompt_promise_random_80.txt\"\n",
    "prompt_list = read_prompt_list(path_in)\n",
    "save_path = \"/Users/yongjiantang/Desktop/tang/code/re_genai/completions/mistral_7b/completion_promise_random_80.txt\"\n",
    "get_completion(prompt_list, save_path)"
   ]
  },
  {
   "cell_type": "code",
   "execution_count": 111,
   "id": "b8dbb97f-8a7a-4d71-bd94-f10bf3497dbe",
   "metadata": {},
   "outputs": [
    {
     "name": "stdout",
     "output_type": "stream",
     "text": [
      "execution time: 123.72332906723022 second\n"
     ]
    }
   ],
   "source": [
    "path_in = \"/Users/yongjiantang/Desktop/tang/code/re_genai/processed_prompts/prompt_promise_random_160.txt\"\n",
    "prompt_list = read_prompt_list(path_in)\n",
    "save_path = \"/Users/yongjiantang/Desktop/tang/code/re_genai/completions/mistral_7b/completion_promise_random_160.txt\"\n",
    "get_completion(prompt_list, save_path)"
   ]
  },
  {
   "cell_type": "markdown",
   "id": "de3460ff-cd72-4b3b-812a-cf8fa42bf03c",
   "metadata": {},
   "source": [
    "#### promise multiclass embedding"
   ]
  },
  {
   "cell_type": "code",
   "execution_count": 77,
   "id": "06505872-5e78-4ebf-9c76-b3ba9d74e3fb",
   "metadata": {},
   "outputs": [
    {
     "name": "stdout",
     "output_type": "stream",
     "text": [
      "execution time: 121.12382888793945 second\n"
     ]
    }
   ],
   "source": [
    "path_in = \"/Users/yongjiantang/Desktop/tang/code/re_genai/processed_prompts/prompt_promise_embedding_0.txt\"\n",
    "prompt_list = read_prompt_list(path_in)\n",
    "save_path = \"/Users/yongjiantang/Desktop/tang/code/re_genai/completions/mistral_7b/completion_promise_embedding_0.txt\"\n",
    "get_completion(prompt_list, save_path)"
   ]
  },
  {
   "cell_type": "code",
   "execution_count": 78,
   "id": "c58b1eef-afbb-44e7-85d6-baa0fee0a55b",
   "metadata": {},
   "outputs": [
    {
     "name": "stdout",
     "output_type": "stream",
     "text": [
      "execution time: 121.81056785583496 second\n"
     ]
    }
   ],
   "source": [
    "path_in = \"/Users/yongjiantang/Desktop/tang/code/re_genai/processed_prompts/prompt_promise_embedding_5.txt\"\n",
    "prompt_list = read_prompt_list(path_in)\n",
    "save_path = \"/Users/yongjiantang/Desktop/tang/code/re_genai/completions/mistral_7b/completion_promise_embedding_5.txt\"\n",
    "get_completion(prompt_list, save_path)"
   ]
  },
  {
   "cell_type": "code",
   "execution_count": 79,
   "id": "a9629ffa-9201-428b-a263-7ae06386736b",
   "metadata": {},
   "outputs": [
    {
     "name": "stdout",
     "output_type": "stream",
     "text": [
      "execution time: 117.41837573051453 second\n"
     ]
    }
   ],
   "source": [
    "path_in = \"/Users/yongjiantang/Desktop/tang/code/re_genai/processed_prompts/prompt_promise_embedding_10.txt\"\n",
    "prompt_list = read_prompt_list(path_in)\n",
    "save_path = \"/Users/yongjiantang/Desktop/tang/code/re_genai/completions/mistral_7b/completion_promise_embedding_10.txt\"\n",
    "get_completion(prompt_list, save_path)"
   ]
  },
  {
   "cell_type": "code",
   "execution_count": 80,
   "id": "daa49f75-708a-459b-8387-97576e81fc28",
   "metadata": {},
   "outputs": [
    {
     "name": "stdout",
     "output_type": "stream",
     "text": [
      "execution time: 125.62616109848022 second\n"
     ]
    }
   ],
   "source": [
    "path_in = \"/Users/yongjiantang/Desktop/tang/code/re_genai/processed_prompts/prompt_promise_embedding_20.txt\"\n",
    "prompt_list = read_prompt_list(path_in)\n",
    "save_path = \"/Users/yongjiantang/Desktop/tang/code/re_genai/completions/mistral_7b/completion_promise_embedding_20.txt\"\n",
    "get_completion(prompt_list, save_path)"
   ]
  },
  {
   "cell_type": "code",
   "execution_count": 81,
   "id": "1b36f97e-5207-4337-beaa-a0d9337c4cfa",
   "metadata": {},
   "outputs": [
    {
     "name": "stdout",
     "output_type": "stream",
     "text": [
      "execution time: 123.28952097892761 second\n"
     ]
    }
   ],
   "source": [
    "path_in = \"/Users/yongjiantang/Desktop/tang/code/re_genai/processed_prompts/prompt_promise_embedding_40.txt\"\n",
    "prompt_list = read_prompt_list(path_in)\n",
    "save_path = \"/Users/yongjiantang/Desktop/tang/code/re_genai/completions/mistral_7b/completion_promise_embedding_40.txt\"\n",
    "get_completion(prompt_list, save_path)"
   ]
  },
  {
   "cell_type": "code",
   "execution_count": 82,
   "id": "9c2f1be3-62e7-4fb3-8e33-3d4348bc016e",
   "metadata": {},
   "outputs": [
    {
     "name": "stdout",
     "output_type": "stream",
     "text": [
      "execution time: 125.4775390625 second\n"
     ]
    }
   ],
   "source": [
    "path_in = \"/Users/yongjiantang/Desktop/tang/code/re_genai/processed_prompts/prompt_promise_embedding_80.txt\"\n",
    "prompt_list = read_prompt_list(path_in)\n",
    "save_path = \"/Users/yongjiantang/Desktop/tang/code/re_genai/completions/mistral_7b/completion_promise_embedding_80.txt\"\n",
    "get_completion(prompt_list, save_path)"
   ]
  },
  {
   "cell_type": "code",
   "execution_count": 112,
   "id": "fec77e85-c6af-4782-8b61-4680f5546807",
   "metadata": {},
   "outputs": [
    {
     "name": "stdout",
     "output_type": "stream",
     "text": [
      "execution time: 134.59514784812927 second\n"
     ]
    }
   ],
   "source": [
    "path_in = \"/Users/yongjiantang/Desktop/tang/code/re_genai/processed_prompts/prompt_promise_embedding_160.txt\"\n",
    "prompt_list = read_prompt_list(path_in)\n",
    "save_path = \"/Users/yongjiantang/Desktop/tang/code/re_genai/completions/mistral_7b/completion_promise_embedding_160.txt\"\n",
    "get_completion(prompt_list, save_path)"
   ]
  },
  {
   "cell_type": "markdown",
   "id": "f68cb29f-4428-42f1-be1b-fe3e09e18760",
   "metadata": {},
   "source": [
    "#### promise multiclass tf-idf"
   ]
  },
  {
   "cell_type": "code",
   "execution_count": 83,
   "id": "e7d5ab98-20e8-4999-b67f-d831d17a5e3e",
   "metadata": {},
   "outputs": [
    {
     "name": "stdout",
     "output_type": "stream",
     "text": [
      "execution time: 112.45754504203796 second\n"
     ]
    }
   ],
   "source": [
    "path_in = \"/Users/yongjiantang/Desktop/tang/code/re_genai/processed_prompts/prompt_promise_tfidf_0.txt\"\n",
    "prompt_list = read_prompt_list(path_in)\n",
    "save_path = \"/Users/yongjiantang/Desktop/tang/code/re_genai/completions/mistral_7b/completion_promise_tfidf_0.txt\"\n",
    "get_completion(prompt_list, save_path)"
   ]
  },
  {
   "cell_type": "code",
   "execution_count": 84,
   "id": "c9e96339-5b07-437f-8dd2-0fd466ec1f5b",
   "metadata": {},
   "outputs": [
    {
     "name": "stdout",
     "output_type": "stream",
     "text": [
      "execution time: 120.38309717178345 second\n"
     ]
    }
   ],
   "source": [
    "path_in = \"/Users/yongjiantang/Desktop/tang/code/re_genai/processed_prompts/prompt_promise_tfidf_5.txt\"\n",
    "prompt_list = read_prompt_list(path_in)\n",
    "save_path = \"/Users/yongjiantang/Desktop/tang/code/re_genai/completions/mistral_7b/completion_promise_tfidf_5.txt\"\n",
    "get_completion(prompt_list, save_path)"
   ]
  },
  {
   "cell_type": "code",
   "execution_count": 85,
   "id": "c405f43b-f63f-42ff-ae68-dd45111af6b5",
   "metadata": {},
   "outputs": [
    {
     "name": "stdout",
     "output_type": "stream",
     "text": [
      "execution time: 125.04896903038025 second\n"
     ]
    }
   ],
   "source": [
    "path_in = \"/Users/yongjiantang/Desktop/tang/code/re_genai/processed_prompts/prompt_promise_tfidf_10.txt\"\n",
    "prompt_list = read_prompt_list(path_in)\n",
    "save_path = \"/Users/yongjiantang/Desktop/tang/code/re_genai/completions/mistral_7b/completion_promise_tfidf_10.txt\"\n",
    "get_completion(prompt_list, save_path)"
   ]
  },
  {
   "cell_type": "code",
   "execution_count": 86,
   "id": "440554b2-7ee5-4571-81b0-ca4e024a65a9",
   "metadata": {},
   "outputs": [
    {
     "name": "stdout",
     "output_type": "stream",
     "text": [
      "execution time: 115.85242700576782 second\n"
     ]
    }
   ],
   "source": [
    "path_in = \"/Users/yongjiantang/Desktop/tang/code/re_genai/processed_prompts/prompt_promise_tfidf_20.txt\"\n",
    "prompt_list = read_prompt_list(path_in)\n",
    "save_path = \"/Users/yongjiantang/Desktop/tang/code/re_genai/completions/mistral_7b/completion_promise_tfidf_20.txt\"\n",
    "get_completion(prompt_list, save_path)"
   ]
  },
  {
   "cell_type": "code",
   "execution_count": 87,
   "id": "99a722a2-3601-4cad-a787-03a3d9e0a2e8",
   "metadata": {},
   "outputs": [
    {
     "name": "stdout",
     "output_type": "stream",
     "text": [
      "execution time: 126.12441611289978 second\n"
     ]
    }
   ],
   "source": [
    "path_in = \"/Users/yongjiantang/Desktop/tang/code/re_genai/processed_prompts/prompt_promise_tfidf_40.txt\"\n",
    "prompt_list = read_prompt_list(path_in)\n",
    "save_path = \"/Users/yongjiantang/Desktop/tang/code/re_genai/completions/mistral_7b/completion_promise_tfidf_40.txt\"\n",
    "get_completion(prompt_list, save_path)"
   ]
  },
  {
   "cell_type": "code",
   "execution_count": 88,
   "id": "eca5837c-ac0d-40bb-b57e-8804800d5229",
   "metadata": {},
   "outputs": [
    {
     "name": "stdout",
     "output_type": "stream",
     "text": [
      "execution time: 133.32836818695068 second\n"
     ]
    }
   ],
   "source": [
    "path_in = \"/Users/yongjiantang/Desktop/tang/code/re_genai/processed_prompts/prompt_promise_tfidf_80.txt\"\n",
    "prompt_list = read_prompt_list(path_in)\n",
    "save_path = \"/Users/yongjiantang/Desktop/tang/code/re_genai/completions/mistral_7b/completion_promise_tfidf_80.txt\"\n",
    "get_completion(prompt_list, save_path)"
   ]
  },
  {
   "cell_type": "code",
   "execution_count": 113,
   "id": "c983a0c4-f0e4-4f9c-99d5-4edb8c28570b",
   "metadata": {},
   "outputs": [
    {
     "name": "stdout",
     "output_type": "stream",
     "text": [
      "execution time: 127.57248735427856 second\n"
     ]
    }
   ],
   "source": [
    "path_in = \"/Users/yongjiantang/Desktop/tang/code/re_genai/processed_prompts/prompt_promise_tfidf_160.txt\"\n",
    "prompt_list = read_prompt_list(path_in)\n",
    "save_path = \"/Users/yongjiantang/Desktop/tang/code/re_genai/completions/mistral_7b/completion_promise_tfidf_160.txt\"\n",
    "get_completion(prompt_list, save_path)"
   ]
  },
  {
   "cell_type": "markdown",
   "id": "9d2ac45f-b0fc-4136-9e26-d9c05c8dd6cd",
   "metadata": {},
   "source": [
    "# get completion on nfr dataset"
   ]
  },
  {
   "cell_type": "markdown",
   "id": "ed517d0e-a5ad-4066-9e27-a07fbbef427f",
   "metadata": {},
   "source": [
    "## multi-class classification"
   ]
  },
  {
   "cell_type": "markdown",
   "id": "84573905-fb25-440b-954a-fb9e46dd597b",
   "metadata": {},
   "source": [
    "#### nfr multi_class random"
   ]
  },
  {
   "cell_type": "code",
   "execution_count": 89,
   "id": "19d04b85-909a-4acb-a71a-acd4f19533b9",
   "metadata": {},
   "outputs": [
    {
     "name": "stdout",
     "output_type": "stream",
     "text": [
      "execution time: 3460.546215057373 second\n"
     ]
    }
   ],
   "source": [
    "path_in = \"/Users/yongjiantang/Desktop/tang/code/re_genai/processed_prompts/prompt_nfr_random_0.txt\"\n",
    "prompt_list = read_prompt_list(path_in)\n",
    "save_path = \"/Users/yongjiantang/Desktop/tang/code/re_genai/completions/mistral_7b/completion_nfr_random_0.txt\"\n",
    "get_completion(prompt_list, save_path)"
   ]
  },
  {
   "cell_type": "code",
   "execution_count": 97,
   "id": "777204d9-0648-41cd-8f45-098d29f6490a",
   "metadata": {},
   "outputs": [
    {
     "name": "stdout",
     "output_type": "stream",
     "text": [
      "execution time: 3478.666871070862 second\n"
     ]
    }
   ],
   "source": [
    "path_in = \"/Users/yongjiantang/Desktop/tang/code/re_genai/processed_prompts/prompt_nfr_random_5.txt\"\n",
    "prompt_list = read_prompt_list(path_in)\n",
    "save_path = \"/Users/yongjiantang/Desktop/tang/code/re_genai/completions/mistral_7b/completion_nfr_random_5.txt\"\n",
    "get_completion(prompt_list, save_path)"
   ]
  },
  {
   "cell_type": "code",
   "execution_count": 114,
   "id": "65e2f360-35de-4341-8f9e-b38b7e6a7bfa",
   "metadata": {},
   "outputs": [
    {
     "name": "stdout",
     "output_type": "stream",
     "text": [
      "execution time: 3468.873160123825 second\n"
     ]
    }
   ],
   "source": [
    "path_in = \"/Users/yongjiantang/Desktop/tang/code/re_genai/processed_prompts/prompt_nfr_random_10.txt\"\n",
    "prompt_list = read_prompt_list(path_in)\n",
    "save_path = \"/Users/yongjiantang/Desktop/tang/code/re_genai/completions/mistral_7b/completion_nfr_random_10.txt\"\n",
    "get_completion(prompt_list, save_path)"
   ]
  },
  {
   "cell_type": "code",
   "execution_count": 115,
   "id": "c6ae76e8-78e4-4088-af1d-031b432e7ceb",
   "metadata": {},
   "outputs": [
    {
     "name": "stdout",
     "output_type": "stream",
     "text": [
      "execution time: 3486.1135108470917 second\n"
     ]
    }
   ],
   "source": [
    "path_in = \"/Users/yongjiantang/Desktop/tang/code/re_genai/processed_prompts/prompt_nfr_random_20.txt\"\n",
    "prompt_list = read_prompt_list(path_in)\n",
    "save_path = \"/Users/yongjiantang/Desktop/tang/code/re_genai/completions/mistral_7b/completion_nfr_random_20.txt\"\n",
    "get_completion(prompt_list, save_path)"
   ]
  },
  {
   "cell_type": "code",
   "execution_count": 116,
   "id": "0a0130e9-3f7f-4df9-9235-7130a289e423",
   "metadata": {},
   "outputs": [
    {
     "name": "stdout",
     "output_type": "stream",
     "text": [
      "execution time: 3484.3390600681305 second\n"
     ]
    }
   ],
   "source": [
    "path_in = \"/Users/yongjiantang/Desktop/tang/code/re_genai/processed_prompts/prompt_nfr_random_40.txt\"\n",
    "prompt_list = read_prompt_list(path_in)\n",
    "save_path = \"/Users/yongjiantang/Desktop/tang/code/re_genai/completions/mistral_7b/completion_nfr_random_40.txt\"\n",
    "get_completion(prompt_list, save_path)"
   ]
  },
  {
   "cell_type": "code",
   "execution_count": 117,
   "id": "e6ca6dae-7cc4-48ca-9a57-d98482664273",
   "metadata": {},
   "outputs": [
    {
     "name": "stdout",
     "output_type": "stream",
     "text": [
      "execution time: 3487.0319340229034 second\n"
     ]
    }
   ],
   "source": [
    "path_in = \"/Users/yongjiantang/Desktop/tang/code/re_genai/processed_prompts/prompt_nfr_random_80.txt\"\n",
    "prompt_list = read_prompt_list(path_in)\n",
    "save_path = \"/Users/yongjiantang/Desktop/tang/code/re_genai/completions/mistral_7b/completion_nfr_random_80.txt\"\n",
    "get_completion(prompt_list, save_path)"
   ]
  },
  {
   "cell_type": "code",
   "execution_count": 118,
   "id": "e1c21d57-77e5-451d-9a38-2c72acb5d205",
   "metadata": {},
   "outputs": [
    {
     "name": "stdout",
     "output_type": "stream",
     "text": [
      "execution time: 27610.913210868835 second\n"
     ]
    }
   ],
   "source": [
    "path_in = \"/Users/yongjiantang/Desktop/tang/code/re_genai/processed_prompts/prompt_nfr_random_160.txt\"\n",
    "prompt_list = read_prompt_list(path_in)\n",
    "save_path = \"/Users/yongjiantang/Desktop/tang/code/re_genai/completions/mistral_7b/completion_nfr_random_160.txt\"\n",
    "get_completion(prompt_list, save_path)"
   ]
  },
  {
   "cell_type": "markdown",
   "id": "5ae63ec9-783a-4d4f-972c-79e854b16565",
   "metadata": {},
   "source": [
    "#### nfr multi_class embedding"
   ]
  },
  {
   "cell_type": "code",
   "execution_count": 119,
   "id": "901ac44e-1f0c-471d-8133-1041ca298b01",
   "metadata": {},
   "outputs": [
    {
     "name": "stdout",
     "output_type": "stream",
     "text": [
      "execution time: 9217.068017959595 second\n"
     ]
    }
   ],
   "source": [
    "path_in = \"/Users/yongjiantang/Desktop/tang/code/re_genai/processed_prompts/prompt_nfr_embedding_0.txt\"\n",
    "prompt_list = read_prompt_list(path_in)\n",
    "save_path = \"/Users/yongjiantang/Desktop/tang/code/re_genai/completions/mistral_7b/completion_nfr_embedding_0.txt\"\n",
    "get_completion(prompt_list, save_path)"
   ]
  },
  {
   "cell_type": "code",
   "execution_count": null,
   "id": "9d8fa4a5-9c83-4194-a7e8-ab9aca58169d",
   "metadata": {},
   "outputs": [],
   "source": [
    "path_in = \"/Users/yongjiantang/Desktop/tang/code/re_genai/processed_prompts/prompt_nfr_embedding_5.txt\"\n",
    "prompt_list = read_prompt_list(path_in)\n",
    "save_path = \"/Users/yongjiantang/Desktop/tang/code/re_genai/completions/mistral_7b/completion_nfr_embedding_5.txt\"\n",
    "get_completion(prompt_list, save_path)"
   ]
  },
  {
   "cell_type": "code",
   "execution_count": null,
   "id": "3ba210b1-f645-4d3a-8053-87243d54bb27",
   "metadata": {},
   "outputs": [],
   "source": [
    "path_in = \"/Users/yongjiantang/Desktop/tang/code/re_genai/processed_prompts/prompt_nfr_embedding_10.txt\"\n",
    "prompt_list = read_prompt_list(path_in)\n",
    "save_path = \"/Users/yongjiantang/Desktop/tang/code/re_genai/completions/mistral_7b/completion_nfr_embedding_10.txt\"\n",
    "get_completion(prompt_list, save_path)"
   ]
  },
  {
   "cell_type": "code",
   "execution_count": null,
   "id": "61fce2f2-a5bc-43b0-a57f-c13d40026e92",
   "metadata": {},
   "outputs": [],
   "source": [
    "path_in = \"/Users/yongjiantang/Desktop/tang/code/re_genai/processed_prompts/prompt_nfr_embedding_20.txt\"\n",
    "prompt_list = read_prompt_list(path_in)\n",
    "save_path = \"/Users/yongjiantang/Desktop/tang/code/re_genai/completions/mistral_7b/completion_nfr_embedding_20.txt\"\n",
    "get_completion(prompt_list, save_path)"
   ]
  },
  {
   "cell_type": "code",
   "execution_count": null,
   "id": "592ff8f9-a7b8-41ce-a75b-38799f2cb384",
   "metadata": {},
   "outputs": [],
   "source": [
    "path_in = \"/Users/yongjiantang/Desktop/tang/code/re_genai/processed_prompts/prompt_nfr_embedding_40.txt\"\n",
    "prompt_list = read_prompt_list(path_in)\n",
    "save_path = \"/Users/yongjiantang/Desktop/tang/code/re_genai/completions/mistral_7b/completion_nfr_embedding_40.txt\"\n",
    "get_completion(prompt_list, save_path)"
   ]
  },
  {
   "cell_type": "code",
   "execution_count": null,
   "id": "5fab29c0-3a3b-496d-b21e-2b3966e9b534",
   "metadata": {},
   "outputs": [],
   "source": [
    "path_in = \"/Users/yongjiantang/Desktop/tang/code/re_genai/processed_prompts/prompt_nfr_embedding_80.txt\"\n",
    "prompt_list = read_prompt_list(path_in)\n",
    "save_path = \"/Users/yongjiantang/Desktop/tang/code/re_genai/completions/mistral_7b/completion_nfr_embedding_80.txt\"\n",
    "get_completion(prompt_list, save_path)"
   ]
  },
  {
   "cell_type": "code",
   "execution_count": null,
   "id": "509350bb-e758-4f01-93a7-12f2f64245d4",
   "metadata": {},
   "outputs": [],
   "source": [
    "path_in = \"/Users/yongjiantang/Desktop/tang/code/re_genai/processed_prompts/prompt_nfr_embedding_160.txt\"\n",
    "prompt_list = read_prompt_list(path_in)\n",
    "save_path = \"/Users/yongjiantang/Desktop/tang/code/re_genai/completions/mistral_7b/completion_nfr_embedding_160.txt\"\n",
    "get_completion(prompt_list, save_path)"
   ]
  },
  {
   "cell_type": "markdown",
   "id": "6d445a13-d470-49bd-aa12-aae13b481a18",
   "metadata": {},
   "source": [
    "#### nfr multi_class tfidf"
   ]
  },
  {
   "cell_type": "code",
   "execution_count": null,
   "id": "27718539-2b6b-4609-ab36-34c754e4bd86",
   "metadata": {},
   "outputs": [],
   "source": [
    "path_in = \"/Users/yongjiantang/Desktop/tang/code/re_genai/processed_prompts/prompt_nfr_tfidf_0.txt\"\n",
    "prompt_list = read_prompt_list(path_in)\n",
    "save_path = \"/Users/yongjiantang/Desktop/tang/code/re_genai/completions/mistral_7b/completion_nfr_tfidf_0.txt\"\n",
    "get_completion(prompt_list, save_path)"
   ]
  },
  {
   "cell_type": "code",
   "execution_count": null,
   "id": "eba13125-449d-4dfb-8c63-fc0e6ee4a0ac",
   "metadata": {},
   "outputs": [],
   "source": [
    "path_in = \"/Users/yongjiantang/Desktop/tang/code/re_genai/processed_prompts/prompt_nfr_tfidf_5.txt\"\n",
    "prompt_list = read_prompt_list(path_in)\n",
    "save_path = \"/Users/yongjiantang/Desktop/tang/code/re_genai/completions/mistral_7b/completion_nfr_tfidf_5.txt\"\n",
    "get_completion(prompt_list, save_path)"
   ]
  },
  {
   "cell_type": "code",
   "execution_count": null,
   "id": "8817ad48-d82e-42a3-8045-5adae11ac032",
   "metadata": {},
   "outputs": [],
   "source": [
    "path_in = \"/Users/yongjiantang/Desktop/tang/code/re_genai/processed_prompts/prompt_nfr_tfidf_10.txt\"\n",
    "prompt_list = read_prompt_list(path_in)\n",
    "save_path = \"/Users/yongjiantang/Desktop/tang/code/re_genai/completions/mistral_7b/completion_nfr_tfidf_10.txt\"\n",
    "get_completion(prompt_list, save_path)"
   ]
  },
  {
   "cell_type": "code",
   "execution_count": null,
   "id": "5456bbfd-1dd6-42bb-8051-12ed28411da5",
   "metadata": {},
   "outputs": [],
   "source": [
    "path_in = \"/Users/yongjiantang/Desktop/tang/code/re_genai/processed_prompts/prompt_nfr_tfidf_20.txt\"\n",
    "prompt_list = read_prompt_list(path_in)\n",
    "save_path = \"/Users/yongjiantang/Desktop/tang/code/re_genai/completions/mistral_7b/completion_nfr_tfidf_20.txt\"\n",
    "get_completion(prompt_list, save_path)"
   ]
  },
  {
   "cell_type": "code",
   "execution_count": null,
   "id": "cf127fb7-2145-4263-ac79-cecb25227f2d",
   "metadata": {},
   "outputs": [],
   "source": [
    "path_in = \"/Users/yongjiantang/Desktop/tang/code/re_genai/processed_prompts/prompt_nfr_tfidf_40.txt\"\n",
    "prompt_list = read_prompt_list(path_in)\n",
    "save_path = \"/Users/yongjiantang/Desktop/tang/code/re_genai/completions/mistral_7b/completion_nfr_tfidf_40.txt\"\n",
    "get_completion(prompt_list, save_path)"
   ]
  },
  {
   "cell_type": "code",
   "execution_count": null,
   "id": "a7ad625a-2d88-48c3-a524-37e3941edc7e",
   "metadata": {},
   "outputs": [],
   "source": [
    "path_in = \"/Users/yongjiantang/Desktop/tang/code/re_genai/processed_prompts/prompt_nfr_tfidf_80.txt\"\n",
    "prompt_list = read_prompt_list(path_in)\n",
    "save_path = \"/Users/yongjiantang/Desktop/tang/code/re_genai/completions/mistral_7b/completion_nfr_tfidf_80.txt\"\n",
    "get_completion(prompt_list, save_path)"
   ]
  },
  {
   "cell_type": "code",
   "execution_count": null,
   "id": "bbf6f679-e401-41b7-aabd-6b570471116f",
   "metadata": {},
   "outputs": [],
   "source": [
    "path_in = \"/Users/yongjiantang/Desktop/tang/code/re_genai/processed_prompts/prompt_nfr_tfidf_160.txt\"\n",
    "prompt_list = read_prompt_list(path_in)\n",
    "save_path = \"/Users/yongjiantang/Desktop/tang/code/re_genai/completions/mistral_7b/completion_nfr_tfidf_160.txt\"\n",
    "get_completion(prompt_list, save_path)"
   ]
  },
  {
   "cell_type": "code",
   "execution_count": null,
   "id": "e1ec9813-bd8f-4384-a654-e2e28e126aef",
   "metadata": {},
   "outputs": [],
   "source": []
  },
  {
   "cell_type": "code",
   "execution_count": null,
   "id": "64afbd1d-4ee2-4dc8-bb68-7714d40cbd33",
   "metadata": {},
   "outputs": [],
   "source": []
  },
  {
   "cell_type": "code",
   "execution_count": null,
   "id": "79e635a8-cedb-4e95-94f1-8c6104ce344e",
   "metadata": {},
   "outputs": [],
   "source": []
  },
  {
   "cell_type": "code",
   "execution_count": null,
   "id": "3082313c-37bf-4def-911f-99f34fdaa1d4",
   "metadata": {},
   "outputs": [],
   "source": []
  },
  {
   "cell_type": "code",
   "execution_count": null,
   "id": "5004e141-a205-4ac0-8717-9eefe76e06ed",
   "metadata": {},
   "outputs": [],
   "source": []
  }
 ],
 "metadata": {
  "kernelspec": {
   "display_name": "Python 3 (ipykernel)",
   "language": "python",
   "name": "python3"
  },
  "language_info": {
   "codemirror_mode": {
    "name": "ipython",
    "version": 3
   },
   "file_extension": ".py",
   "mimetype": "text/x-python",
   "name": "python",
   "nbconvert_exporter": "python",
   "pygments_lexer": "ipython3",
   "version": "3.10.11"
  }
 },
 "nbformat": 4,
 "nbformat_minor": 5
}
