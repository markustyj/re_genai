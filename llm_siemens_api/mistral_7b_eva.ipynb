{
 "cells": [
  {
   "cell_type": "code",
   "execution_count": 4,
   "id": "6cdeb720-13ef-4a7c-a04d-7abe1337f96a",
   "metadata": {},
   "outputs": [],
   "source": [
    "import openai\n",
    "from openai import OpenAI\n",
    "import os  \n",
    "\n",
    "import requests  \n",
    "import json  \n",
    "\n",
    "api_key = os.environ[\"OPENAI_API_KEY\"]  "
   ]
  },
  {
   "cell_type": "code",
   "execution_count": 5,
   "id": "fc895f26-0060-4257-b2a0-e58b054662dc",
   "metadata": {},
   "outputs": [],
   "source": [
    "# Define the API endpoint URL  \n",
    "def get_response_siemens_api(url, model, max_token, user_content, system_content):  \n",
    "    # Define the request headers  \n",
    "    headers = {  \n",
    "        'accept': 'application/json',  \n",
    "        'Authorization': 'Bearer {}'.format(api_key),  \n",
    "        'Content-Type': 'application/json'  \n",
    "    }  \n",
    "\n",
    "    # Define the request payload  \n",
    "    payload = {  \n",
    "        'model': model,  \n",
    "        'messages': [  \n",
    "            {'role': 'user', 'content': user_content },\n",
    "            {'role': 'system', 'content': system_content}           \n",
    "        ],  \n",
    "        'temperature': 0,  \n",
    "        'stream': False,  \n",
    "        'max_tokens': max_token  \n",
    "        \n",
    "    }  \n",
    "      \n",
    "    # Make the POST request  \n",
    "    response = requests.post(url, headers=headers, data=json.dumps(payload))  \n",
    "      \n",
    "    # Print the response  \n",
    "    return print(response.json()[\"choices\"][0][\"message\"][\"content\"])\n"
   ]
  },
  {
   "cell_type": "code",
   "execution_count": 6,
   "id": "fe1ed575-1edd-424b-93fc-4088a744cbf5",
   "metadata": {},
   "outputs": [
    {
     "name": "stdout",
     "output_type": "stream",
     "text": [
      " {The system shall refresh the display every 60 seconds: functional requirement}\n"
     ]
    }
   ],
   "source": [
    "url = 'https://api.siemens.com/llm/chat/completions'  \n",
    "model = 'mistral-7b-instruct'\n",
    "max_token = 100\n",
    "user_content = (\"Please classify the given requirement into 'functional requirement' or 'non-functional requirement'. \"\n",
    "                \"The answer should be in format {the given requirement: functional requirement or non-functional requirement}.\"\n",
    "                \"The given requirement: The system shall refresh the display every 60 seconds.\" )\n",
    "system_content = (\"You are a senior software engineer who is experienced in software requirement classification! \" \n",
    "                #\"Please classfy the given requirement into 'functional requirement' or 'non-functional requirement'. \" \n",
    "                 )\n",
    "\n",
    "get_response_siemens_api(url, model, max_token, user_content, system_content)"
   ]
  },
  {
   "cell_type": "code",
   "execution_count": null,
   "id": "427871b8-2f73-4c45-a74f-b781062fc02c",
   "metadata": {},
   "outputs": [],
   "source": []
  },
  {
   "cell_type": "markdown",
   "id": "ff719f5b-7477-4ae6-be50-c4de8c7be125",
   "metadata": {},
   "source": [
    "# load the processed csv file"
   ]
  },
  {
   "cell_type": "markdown",
   "id": "549eeaef-8848-4c9d-8a9c-275b4037a031",
   "metadata": {},
   "source": [
    "## evaluate with promise"
   ]
  },
  {
   "cell_type": "code",
   "execution_count": 8,
   "id": "f13ea741-aa50-456f-8d30-71cad9b81884",
   "metadata": {},
   "outputs": [],
   "source": [
    "import csv\n",
    "def load_csv(file_path):  \n",
    "    data = []  \n",
    "    with open(file_path, 'r') as file:  \n",
    "        csv_reader = csv.reader(file)  \n",
    "        for row in csv_reader:  \n",
    "            data.append(row)  \n",
    "    return data  "
   ]
  },
  {
   "cell_type": "code",
   "execution_count": 12,
   "id": "d69a4be7-ecea-4b3d-a66f-a5f6fb79c324",
   "metadata": {},
   "outputs": [
    {
     "data": {
      "text/plain": [
       "[['RequirementText', 'Class', 'b_class'],\n",
       " [\"'The system shall refresh the display every 60 seconds.'\", 'PE', 'NF'],\n",
       " [\"'The application shall match the color of the schema set forth by Department of Homeland Security'\",\n",
       "  'LF',\n",
       "  'NF']]"
      ]
     },
     "execution_count": 12,
     "metadata": {},
     "output_type": "execute_result"
    }
   ],
   "source": [
    "file_path = '/Users/yongjiantang/Desktop/tang/code/re_genai/data/processed_promise.csv'  \n",
    "loaded_data = load_csv(file_path)  \n",
    "loaded_data[:3]"
   ]
  },
  {
   "cell_type": "code",
   "execution_count": null,
   "id": "a397408b-9701-41d8-b51d-f2d97b98384d",
   "metadata": {},
   "outputs": [],
   "source": [
    "def evaluate_the_dataset(loaded_data, num_shot, method):\n",
    "    \"\"\" loaded_data is a N x 3 array for promise dataset, N x 2 array for nfr_so dataset\n",
    "    \"\"\"\n",
    "    for sample in loaded_data:\n",
    "        sample[0]"
   ]
  },
  {
   "cell_type": "code",
   "execution_count": null,
   "id": "b6a419e9-648d-4091-8209-57d8a31ab0f1",
   "metadata": {},
   "outputs": [],
   "source": [
    "def prompt_construction(num_shot, method, bi_cla):\n",
    "    \n",
    "    prompt_base = \n",
    "    if method == \"random\":\n",
    "        prompt = "
   ]
  },
  {
   "cell_type": "markdown",
   "id": "9d2ac45f-b0fc-4136-9e26-d9c05c8dd6cd",
   "metadata": {},
   "source": [
    "## evaluate with nfr so"
   ]
  },
  {
   "cell_type": "code",
   "execution_count": null,
   "id": "86a937f2-2e6a-42e6-b1ce-43f4864bd08e",
   "metadata": {},
   "outputs": [],
   "source": [
    "file_path = '/Users/yongjiantang/Desktop/tang/code/re_genai/data/processed_nfr_so.csv'  \n",
    "loaded_data = pd.read_csv(file_path, delimiter='!#!', encoding='utf-8')  \n",
    "loaded_data"
   ]
  }
 ],
 "metadata": {
  "kernelspec": {
   "display_name": "Python 3 (ipykernel)",
   "language": "python",
   "name": "python3"
  },
  "language_info": {
   "codemirror_mode": {
    "name": "ipython",
    "version": 3
   },
   "file_extension": ".py",
   "mimetype": "text/x-python",
   "name": "python",
   "nbconvert_exporter": "python",
   "pygments_lexer": "ipython3",
   "version": "3.10.11"
  }
 },
 "nbformat": 4,
 "nbformat_minor": 5
}
