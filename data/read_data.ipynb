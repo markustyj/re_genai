{
 "cells": [
  {
   "cell_type": "markdown",
   "id": "2c8f0db8-d7ce-436c-b37d-a93cbb1eda96",
   "metadata": {},
   "source": [
    "# load the datasets"
   ]
  },
  {
   "cell_type": "code",
   "execution_count": 22,
   "id": "b0d7b339-c176-4313-8894-61e2b80730b8",
   "metadata": {},
   "outputs": [],
   "source": [
    "import csv  \n",
    "import pandas as pd  \n",
    "import numpy as np\n",
    "from sklearn.model_selection import train_test_split  \n",
    "from few_shot_list_creation import *\n",
    "\n",
    "%reload_ext autoreload\n",
    "%autoreload 2"
   ]
  },
  {
   "cell_type": "code",
   "execution_count": 23,
   "id": "3d6bb15c-f768-47ec-829a-730652057de8",
   "metadata": {},
   "outputs": [],
   "source": [
    "# def load_csv(file_path):  \n",
    "#     data = []  \n",
    "#     with open(file_path, 'r') as file:  \n",
    "#         csv_reader = csv.reader(file)  \n",
    "#         for row in csv_reader:  \n",
    "#             data.append(row)  \n",
    "#     return data  \n",
    "\n",
    "# file_path = 'promise-km-100-f.csv'  \n",
    "# loaded_data = load_csv(file_path)  "
   ]
  },
  {
   "cell_type": "markdown",
   "id": "a0280db8-16ac-4b1c-807d-39cd9743bd94",
   "metadata": {},
   "source": [
    "## load the promise"
   ]
  },
  {
   "cell_type": "code",
   "execution_count": 24,
   "id": "4b76d542-5232-4a32-b39a-ed5fb1ed5a26",
   "metadata": {},
   "outputs": [],
   "source": [
    "def load_csv(file_path):  \n",
    "    data = pd.read_csv(file_path)  \n",
    "    return data  \n"
   ]
  },
  {
   "cell_type": "code",
   "execution_count": 25,
   "id": "29f16731-c8c7-4241-bbd7-6a6abf58c06e",
   "metadata": {
    "scrolled": true
   },
   "outputs": [],
   "source": [
    "file_path = 'promise-km-100-f.csv'  \n",
    "loaded_data = load_csv(file_path) "
   ]
  },
  {
   "cell_type": "code",
   "execution_count": 26,
   "id": "5e0df7d1-1400-4551-af7f-8fb975fbbf32",
   "metadata": {},
   "outputs": [
    {
     "data": {
      "text/plain": [
       "array(['PE', 'LF', 'US', 'A', 'SE', 'F', 'FT', 'SC', 'PO', 'O', 'L', 'MN'],\n",
       "      dtype=object)"
      ]
     },
     "execution_count": 26,
     "metadata": {},
     "output_type": "execute_result"
    }
   ],
   "source": [
    "loaded_data[\"Class\"].unique()"
   ]
  },
  {
   "cell_type": "code",
   "execution_count": 27,
   "id": "32133879-2fb2-46ea-8e20-2aea9f6aec13",
   "metadata": {},
   "outputs": [
    {
     "name": "stderr",
     "output_type": "stream",
     "text": [
      "/var/folders/kt/b1wyf_v11ds5q72l3gfs2lph0000gn/T/ipykernel_65048/3344572141.py:3: SettingWithCopyWarning: \n",
      "A value is trying to be set on a copy of a slice from a DataFrame.\n",
      "Try using .loc[row_indexer,col_indexer] = value instead\n",
      "\n",
      "See the caveats in the documentation: https://pandas.pydata.org/pandas-docs/stable/user_guide/indexing.html#returning-a-view-versus-a-copy\n",
      "  loaded_data_class[\"b_class\"] = \"F\"\n"
     ]
    },
    {
     "data": {
      "text/html": [
       "<div>\n",
       "<style scoped>\n",
       "    .dataframe tbody tr th:only-of-type {\n",
       "        vertical-align: middle;\n",
       "    }\n",
       "\n",
       "    .dataframe tbody tr th {\n",
       "        vertical-align: top;\n",
       "    }\n",
       "\n",
       "    .dataframe thead th {\n",
       "        text-align: right;\n",
       "    }\n",
       "</style>\n",
       "<table border=\"1\" class=\"dataframe\">\n",
       "  <thead>\n",
       "    <tr style=\"text-align: right;\">\n",
       "      <th></th>\n",
       "      <th>RequirementText</th>\n",
       "      <th>Class</th>\n",
       "      <th>b_class</th>\n",
       "    </tr>\n",
       "  </thead>\n",
       "  <tbody>\n",
       "    <tr>\n",
       "      <th>0</th>\n",
       "      <td>'The system shall refresh the display every 60...</td>\n",
       "      <td>PE</td>\n",
       "      <td>NF</td>\n",
       "    </tr>\n",
       "    <tr>\n",
       "      <th>1</th>\n",
       "      <td>'The application shall match the color of the ...</td>\n",
       "      <td>LF</td>\n",
       "      <td>NF</td>\n",
       "    </tr>\n",
       "    <tr>\n",
       "      <th>2</th>\n",
       "      <td>'If projected the data must be readable. On a ...</td>\n",
       "      <td>US</td>\n",
       "      <td>NF</td>\n",
       "    </tr>\n",
       "    <tr>\n",
       "      <th>3</th>\n",
       "      <td>'The product shall be available during normal ...</td>\n",
       "      <td>A</td>\n",
       "      <td>NF</td>\n",
       "    </tr>\n",
       "    <tr>\n",
       "      <th>4</th>\n",
       "      <td>'If projected the data must be understandable....</td>\n",
       "      <td>US</td>\n",
       "      <td>NF</td>\n",
       "    </tr>\n",
       "    <tr>\n",
       "      <th>5</th>\n",
       "      <td>'The product shall ensure that it can only be ...</td>\n",
       "      <td>SE</td>\n",
       "      <td>NF</td>\n",
       "    </tr>\n",
       "    <tr>\n",
       "      <th>6</th>\n",
       "      <td>'The product shall be intuitive and self-expla...</td>\n",
       "      <td>US</td>\n",
       "      <td>NF</td>\n",
       "    </tr>\n",
       "    <tr>\n",
       "      <th>7</th>\n",
       "      <td>'The product shall respond fast to keep up-to-...</td>\n",
       "      <td>PE</td>\n",
       "      <td>NF</td>\n",
       "    </tr>\n",
       "    <tr>\n",
       "      <th>8</th>\n",
       "      <td>'The system shall have a MDI form that allows ...</td>\n",
       "      <td>F</td>\n",
       "      <td>F</td>\n",
       "    </tr>\n",
       "    <tr>\n",
       "      <th>9</th>\n",
       "      <td>'The system shall display Events in a vertical...</td>\n",
       "      <td>F</td>\n",
       "      <td>F</td>\n",
       "    </tr>\n",
       "  </tbody>\n",
       "</table>\n",
       "</div>"
      ],
      "text/plain": [
       "                                     RequirementText Class b_class\n",
       "0  'The system shall refresh the display every 60...    PE      NF\n",
       "1  'The application shall match the color of the ...    LF      NF\n",
       "2  'If projected the data must be readable. On a ...    US      NF\n",
       "3  'The product shall be available during normal ...     A      NF\n",
       "4  'If projected the data must be understandable....    US      NF\n",
       "5  'The product shall ensure that it can only be ...    SE      NF\n",
       "6  'The product shall be intuitive and self-expla...    US      NF\n",
       "7  'The product shall respond fast to keep up-to-...    PE      NF\n",
       "8  'The system shall have a MDI form that allows ...     F       F\n",
       "9  'The system shall display Events in a vertical...     F       F"
      ]
     },
     "execution_count": 27,
     "metadata": {},
     "output_type": "execute_result"
    }
   ],
   "source": [
    "## create a new column for binary FR or NFR classification\n",
    "loaded_data_class = loaded_data[[\"RequirementText\", \"Class\"]]\n",
    "loaded_data_class[\"b_class\"] = \"F\"\n",
    "\n",
    "#selected_rows = loaded_data_class.loc[loaded_data_class['Class'] != 'FR']\n",
    "loaded_data_class.loc[loaded_data_class['Class'] != 'F', \"b_class\"] = \"NF\"\n",
    "\n",
    "loaded_data_class[:10]"
   ]
  },
  {
   "cell_type": "code",
   "execution_count": 28,
   "id": "60724a95-5da5-442e-a7aa-1fd58bf40df0",
   "metadata": {},
   "outputs": [
    {
     "data": {
      "text/html": [
       "<div>\n",
       "<style scoped>\n",
       "    .dataframe tbody tr th:only-of-type {\n",
       "        vertical-align: middle;\n",
       "    }\n",
       "\n",
       "    .dataframe tbody tr th {\n",
       "        vertical-align: top;\n",
       "    }\n",
       "\n",
       "    .dataframe thead th {\n",
       "        text-align: right;\n",
       "    }\n",
       "</style>\n",
       "<table border=\"1\" class=\"dataframe\">\n",
       "  <thead>\n",
       "    <tr style=\"text-align: right;\">\n",
       "      <th></th>\n",
       "      <th>RequirementText</th>\n",
       "      <th>Class</th>\n",
       "      <th>b_class</th>\n",
       "    </tr>\n",
       "  </thead>\n",
       "  <tbody>\n",
       "    <tr>\n",
       "      <th>0</th>\n",
       "      <td>'The system shall refresh the display every 60...</td>\n",
       "      <td>Performance</td>\n",
       "      <td>Non-functional</td>\n",
       "    </tr>\n",
       "    <tr>\n",
       "      <th>1</th>\n",
       "      <td>'The application shall match the color of the ...</td>\n",
       "      <td>Look and Feel</td>\n",
       "      <td>Non-functional</td>\n",
       "    </tr>\n",
       "    <tr>\n",
       "      <th>2</th>\n",
       "      <td>'If projected the data must be readable. On a ...</td>\n",
       "      <td>Usability</td>\n",
       "      <td>Non-functional</td>\n",
       "    </tr>\n",
       "    <tr>\n",
       "      <th>3</th>\n",
       "      <td>'The product shall be available during normal ...</td>\n",
       "      <td>Availability</td>\n",
       "      <td>Non-functional</td>\n",
       "    </tr>\n",
       "    <tr>\n",
       "      <th>4</th>\n",
       "      <td>'If projected the data must be understandable....</td>\n",
       "      <td>Usability</td>\n",
       "      <td>Non-functional</td>\n",
       "    </tr>\n",
       "    <tr>\n",
       "      <th>5</th>\n",
       "      <td>'The product shall ensure that it can only be ...</td>\n",
       "      <td>Security</td>\n",
       "      <td>Non-functional</td>\n",
       "    </tr>\n",
       "    <tr>\n",
       "      <th>6</th>\n",
       "      <td>'The product shall be intuitive and self-expla...</td>\n",
       "      <td>Usability</td>\n",
       "      <td>Non-functional</td>\n",
       "    </tr>\n",
       "    <tr>\n",
       "      <th>7</th>\n",
       "      <td>'The product shall respond fast to keep up-to-...</td>\n",
       "      <td>Performance</td>\n",
       "      <td>Non-functional</td>\n",
       "    </tr>\n",
       "    <tr>\n",
       "      <th>8</th>\n",
       "      <td>'The system shall have a MDI form that allows ...</td>\n",
       "      <td>Functional</td>\n",
       "      <td>Functional</td>\n",
       "    </tr>\n",
       "    <tr>\n",
       "      <th>9</th>\n",
       "      <td>'The system shall display Events in a vertical...</td>\n",
       "      <td>Functional</td>\n",
       "      <td>Functional</td>\n",
       "    </tr>\n",
       "  </tbody>\n",
       "</table>\n",
       "</div>"
      ],
      "text/plain": [
       "                                     RequirementText          Class  \\\n",
       "0  'The system shall refresh the display every 60...    Performance   \n",
       "1  'The application shall match the color of the ...  Look and Feel   \n",
       "2  'If projected the data must be readable. On a ...      Usability   \n",
       "3  'The product shall be available during normal ...   Availability   \n",
       "4  'If projected the data must be understandable....      Usability   \n",
       "5  'The product shall ensure that it can only be ...       Security   \n",
       "6  'The product shall be intuitive and self-expla...      Usability   \n",
       "7  'The product shall respond fast to keep up-to-...    Performance   \n",
       "8  'The system shall have a MDI form that allows ...     Functional   \n",
       "9  'The system shall display Events in a vertical...     Functional   \n",
       "\n",
       "          b_class  \n",
       "0  Non-functional  \n",
       "1  Non-functional  \n",
       "2  Non-functional  \n",
       "3  Non-functional  \n",
       "4  Non-functional  \n",
       "5  Non-functional  \n",
       "6  Non-functional  \n",
       "7  Non-functional  \n",
       "8      Functional  \n",
       "9      Functional  "
      ]
     },
     "execution_count": 28,
     "metadata": {},
     "output_type": "execute_result"
    }
   ],
   "source": [
    "# change abbreviations to textual requirement, e.g. F -> Functional, PE -> Performance, \n",
    "loaded_data_class.loc[loaded_data_class['b_class'] == 'F', \"b_class\"] = \"Functional\"\n",
    "loaded_data_class.loc[loaded_data_class['b_class'] == 'NF', \"b_class\"] = \"Non-functional\"\n",
    "loaded_data_class.loc[loaded_data_class['Class'] == 'F', \"Class\"] = \"Functional\"\n",
    "loaded_data_class.loc[loaded_data_class['Class'] == 'A', \"Class\"] = \"Availability\"\n",
    "loaded_data_class.loc[loaded_data_class['Class'] == 'FT', \"Class\"] = \"Fault Tolerance\"\n",
    "loaded_data_class.loc[loaded_data_class['Class'] == 'LF', \"Class\"] = \"Look and Feel\"\n",
    "loaded_data_class.loc[loaded_data_class['Class'] == 'MN', \"Class\"] = \"Maintainability\"\n",
    "loaded_data_class.loc[loaded_data_class['Class'] == 'O', \"Class\"] = \"Operational\"\n",
    "loaded_data_class.loc[loaded_data_class['Class'] == 'PE', \"Class\"] = \"Performance\"\n",
    "loaded_data_class.loc[loaded_data_class['Class'] == 'PO', \"Class\"] = \"Portability\"\n",
    "loaded_data_class.loc[loaded_data_class['Class'] == 'SC', \"Class\"] = \"Scalability\"\n",
    "loaded_data_class.loc[loaded_data_class['Class'] == 'SE', \"Class\"] = \"Security\"\n",
    "loaded_data_class.loc[loaded_data_class['Class'] == 'US', \"Class\"] = \"Usability\"\n",
    "loaded_data_class.loc[loaded_data_class['Class'] == 'RE', \"Class\"] = \"Reliability\"\n",
    "\n",
    "loaded_data_class[:10]"
   ]
  },
  {
   "cell_type": "code",
   "execution_count": 29,
   "id": "8ac77ee2-e9a1-4b26-8d7d-4b4c84d56de3",
   "metadata": {},
   "outputs": [
    {
     "data": {
      "text/plain": [
       "(array(['Performance', 'Look and Feel', 'Usability', 'Availability',\n",
       "        'Security', 'Functional', 'Fault Tolerance', 'Scalability',\n",
       "        'Portability', 'Operational', 'L', 'Maintainability'], dtype=object),\n",
       " (13, 3))"
      ]
     },
     "execution_count": 29,
     "metadata": {},
     "output_type": "execute_result"
    }
   ],
   "source": [
    "loaded_data_class[\"Class\"].unique(), loaded_data_class.loc[loaded_data_class['Class'] == 'L'].shape"
   ]
  },
  {
   "cell_type": "code",
   "execution_count": 30,
   "id": "600e8f1c-71ae-44d7-92e9-a7e366a88bee",
   "metadata": {},
   "outputs": [],
   "source": [
    "# Drop rows with specific values  \n",
    "loaded_data_class = loaded_data_class[~(loaded_data_class['Class'] == 'L')]  "
   ]
  },
  {
   "cell_type": "code",
   "execution_count": 31,
   "id": "7621604a-e03f-4b69-8bf4-9acbf1ae8507",
   "metadata": {},
   "outputs": [],
   "source": [
    "loaded_data_class.to_csv('processed_promise.csv', index=False)  "
   ]
  },
  {
   "cell_type": "markdown",
   "id": "78c59b68-5819-4721-a1d7-640e5b8e0640",
   "metadata": {},
   "source": [
    "### train test split"
   ]
  },
  {
   "cell_type": "code",
   "execution_count": 32,
   "id": "4995aeba-ef04-45d1-b041-161a5cef97f5",
   "metadata": {},
   "outputs": [
    {
     "data": {
      "text/plain": [
       "(612, 3)"
      ]
     },
     "execution_count": 32,
     "metadata": {},
     "output_type": "execute_result"
    }
   ],
   "source": [
    "file_path = 'processed_promise.csv'  \n",
    "X = load_csv(file_path)  \n",
    "X.shape"
   ]
  },
  {
   "cell_type": "code",
   "execution_count": 33,
   "id": "d8bfa67e-0601-48fa-b730-ac14bb183fb6",
   "metadata": {},
   "outputs": [],
   "source": [
    "# Assuming your dataset is stored in X  \n",
    "X_train, X_temp = train_test_split(X, test_size=0.4, random_state=42)  \n",
    "\n",
    "# Further split the temporary data into validation and test data  \n",
    "X_val, X_test = train_test_split(X_temp, test_size=0.5, random_state=42)  \n",
    "  "
   ]
  },
  {
   "cell_type": "code",
   "execution_count": 34,
   "id": "d81cfefb-3491-46eb-93a0-2028e50b9ca7",
   "metadata": {},
   "outputs": [],
   "source": [
    "X_train.to_csv('processed_promise_train.csv', index=False)\n",
    "X_val.to_csv('processed_promise_val.csv', index=False) \n",
    "X_test.to_csv('processed_promise_test.csv', index=False)  "
   ]
  },
  {
   "cell_type": "markdown",
   "id": "b7ad929e-c787-438c-b7e3-298f9d62b91f",
   "metadata": {},
   "source": [
    "# load so_nfr"
   ]
  },
  {
   "cell_type": "code",
   "execution_count": 12,
   "id": "6460eece-ca9d-4531-9738-5072fc938c24",
   "metadata": {},
   "outputs": [],
   "source": [
    "# Some requirements contain comma, use delimiter='!#!'"
   ]
  },
  {
   "cell_type": "code",
   "execution_count": 13,
   "id": "31c6e07d-3d76-45f1-8de4-e1cefcc9a47d",
   "metadata": {},
   "outputs": [
    {
     "name": "stderr",
     "output_type": "stream",
     "text": [
      "/var/folders/kt/b1wyf_v11ds5q72l3gfs2lph0000gn/T/ipykernel_40567/500133377.py:2: ParserWarning: Falling back to the 'python' engine because the 'c' engine does not support regex separators (separators > 1 char and different from '\\s+' are interpreted as regex); you can avoid this warning by specifying engine='python'.\n",
      "  loaded_data = pd.read_csv(file_path, delimiter='!#!', encoding='utf-8')\n"
     ]
    },
    {
     "data": {
      "text/html": [
       "<div>\n",
       "<style scoped>\n",
       "    .dataframe tbody tr th:only-of-type {\n",
       "        vertical-align: middle;\n",
       "    }\n",
       "\n",
       "    .dataframe tbody tr th {\n",
       "        vertical-align: top;\n",
       "    }\n",
       "\n",
       "    .dataframe thead th {\n",
       "        text-align: right;\n",
       "    }\n",
       "</style>\n",
       "<table border=\"1\" class=\"dataframe\">\n",
       "  <thead>\n",
       "    <tr style=\"text-align: right;\">\n",
       "      <th></th>\n",
       "      <th>RequirementText</th>\n",
       "      <th>class</th>\n",
       "    </tr>\n",
       "  </thead>\n",
       "  <tbody>\n",
       "    <tr>\n",
       "      <th>0</th>\n",
       "      <td>Why does NameNode HA use JournalNode instead o...</td>\n",
       "      <td>0</td>\n",
       "    </tr>\n",
       "    <tr>\n",
       "      <th>1</th>\n",
       "      <td>Configure Neo4j 1.9.3 in Spring for HighlyAvai...</td>\n",
       "      <td>0</td>\n",
       "    </tr>\n",
       "    <tr>\n",
       "      <th>2</th>\n",
       "      <td>ActiveMQ Artemis HA setup with SSL enabled</td>\n",
       "      <td>0</td>\n",
       "    </tr>\n",
       "    <tr>\n",
       "      <th>3</th>\n",
       "      <td>Automating High Availability and Disaster Reco...</td>\n",
       "      <td>0</td>\n",
       "    </tr>\n",
       "    <tr>\n",
       "      <th>4</th>\n",
       "      <td>How to ensure that the data in the consumption...</td>\n",
       "      <td>0</td>\n",
       "    </tr>\n",
       "    <tr>\n",
       "      <th>...</th>\n",
       "      <td>...</td>\n",
       "      <td>...</td>\n",
       "    </tr>\n",
       "    <tr>\n",
       "      <th>17429</th>\n",
       "      <td>Creating fault tolerant system - Use data file...</td>\n",
       "      <td>6</td>\n",
       "    </tr>\n",
       "    <tr>\n",
       "      <th>17430</th>\n",
       "      <td>Akka OneForOneStrategy does not work</td>\n",
       "      <td>6</td>\n",
       "    </tr>\n",
       "    <tr>\n",
       "      <th>17431</th>\n",
       "      <td>golang's hystrix library \"circuit open\" withou...</td>\n",
       "      <td>6</td>\n",
       "    </tr>\n",
       "    <tr>\n",
       "      <th>17432</th>\n",
       "      <td>Error while configuring EMS with Database in F...</td>\n",
       "      <td>6</td>\n",
       "    </tr>\n",
       "    <tr>\n",
       "      <th>17433</th>\n",
       "      <td>How does each backup/nodes get 2f replies in P...</td>\n",
       "      <td>6</td>\n",
       "    </tr>\n",
       "  </tbody>\n",
       "</table>\n",
       "<p>17434 rows × 2 columns</p>\n",
       "</div>"
      ],
      "text/plain": [
       "                                         RequirementText  class\n",
       "0      Why does NameNode HA use JournalNode instead o...      0\n",
       "1      Configure Neo4j 1.9.3 in Spring for HighlyAvai...      0\n",
       "2             ActiveMQ Artemis HA setup with SSL enabled      0\n",
       "3      Automating High Availability and Disaster Reco...      0\n",
       "4      How to ensure that the data in the consumption...      0\n",
       "...                                                  ...    ...\n",
       "17429  Creating fault tolerant system - Use data file...      6\n",
       "17430               Akka OneForOneStrategy does not work      6\n",
       "17431  golang's hystrix library \"circuit open\" withou...      6\n",
       "17432  Error while configuring EMS with Database in F...      6\n",
       "17433  How does each backup/nodes get 2f replies in P...      6\n",
       "\n",
       "[17434 rows x 2 columns]"
      ]
     },
     "execution_count": 13,
     "metadata": {},
     "output_type": "execute_result"
    }
   ],
   "source": [
    "file_path = 'so_nfr.csv'  \n",
    "loaded_data = pd.read_csv(file_path, delimiter='!#!', encoding='utf-8')  \n",
    "loaded_data"
   ]
  },
  {
   "cell_type": "code",
   "execution_count": 14,
   "id": "7a5cf566-bc52-4df2-8de1-6a617a9b835a",
   "metadata": {},
   "outputs": [
    {
     "data": {
      "text/plain": [
       "class\n",
       "1    6794\n",
       "5    5211\n",
       "4    2206\n",
       "3    1393\n",
       "0    1301\n",
       "2     295\n",
       "6     234\n",
       "Name: count, dtype: int64"
      ]
     },
     "execution_count": 14,
     "metadata": {},
     "output_type": "execute_result"
    }
   ],
   "source": [
    "#loaded_data['RequirementText!#!class'] = loaded_data['RequirementText!#!class'].apply(lambda x: str(x))\n",
    "loaded_data_class = loaded_data\n",
    "loaded_data_class['class'].value_counts()"
   ]
  },
  {
   "cell_type": "code",
   "execution_count": 15,
   "id": "93f588ea-3c37-45ba-8873-0adc6bca85fb",
   "metadata": {},
   "outputs": [
    {
     "name": "stderr",
     "output_type": "stream",
     "text": [
      "/var/folders/kt/b1wyf_v11ds5q72l3gfs2lph0000gn/T/ipykernel_40567/958891109.py:2: FutureWarning: Setting an item of incompatible dtype is deprecated and will raise an error in a future version of pandas. Value 'Availability' has dtype incompatible with int64, please explicitly cast to a compatible dtype first.\n",
      "  loaded_data_class.loc[loaded_data_class['class'] == 0, \"class\"] = \"Availability\"\n"
     ]
    },
    {
     "data": {
      "text/plain": [
       "(class\n",
       " Performance        6794\n",
       " Security           5211\n",
       " Scalability        2206\n",
       " Portability        1393\n",
       " Availability       1301\n",
       " Maintainability     295\n",
       " Fault Tolerance     234\n",
       " Name: count, dtype: int64,\n",
       "                                          RequirementText            class\n",
       " 0      Why does NameNode HA use JournalNode instead o...     Availability\n",
       " 1      Configure Neo4j 1.9.3 in Spring for HighlyAvai...     Availability\n",
       " 2             ActiveMQ Artemis HA setup with SSL enabled     Availability\n",
       " 3      Automating High Availability and Disaster Reco...     Availability\n",
       " 4      How to ensure that the data in the consumption...     Availability\n",
       " ...                                                  ...              ...\n",
       " 17429  Creating fault tolerant system - Use data file...  Fault Tolerance\n",
       " 17430               Akka OneForOneStrategy does not work  Fault Tolerance\n",
       " 17431  golang's hystrix library \"circuit open\" withou...  Fault Tolerance\n",
       " 17432  Error while configuring EMS with Database in F...  Fault Tolerance\n",
       " 17433  How does each backup/nodes get 2f replies in P...  Fault Tolerance\n",
       " \n",
       " [17434 rows x 2 columns])"
      ]
     },
     "execution_count": 15,
     "metadata": {},
     "output_type": "execute_result"
    }
   ],
   "source": [
    "# change abbreviations to textual requirement, e.g. F -> Functional, PE -> Performance, \n",
    "loaded_data_class.loc[loaded_data_class['class'] == 0, \"class\"] = \"Availability\"\n",
    "loaded_data_class.loc[loaded_data_class['class'] == 1, \"class\"] = \"Performance\"\n",
    "loaded_data_class.loc[loaded_data_class['class'] == 2, \"class\"] = \"Maintainability\"\n",
    "loaded_data_class.loc[loaded_data_class['class'] == 3, \"class\"] = \"Portability\"\n",
    "loaded_data_class.loc[loaded_data_class['class'] == 4, \"class\"] = \"Scalability\"\n",
    "loaded_data_class.loc[loaded_data_class['class'] == 5, \"class\"] = \"Security\"\n",
    "loaded_data_class.loc[loaded_data_class['class'] == 6, \"class\"] = \"Fault Tolerance\"\n",
    "\n",
    "loaded_data_class[\"class\"].value_counts(), loaded_data_class"
   ]
  },
  {
   "cell_type": "code",
   "execution_count": 16,
   "id": "7ff9d212-3ce1-4438-87e0-5152515fe0d4",
   "metadata": {},
   "outputs": [],
   "source": [
    "loaded_data_class.to_csv('processed_nfr_so.csv', index=False)  "
   ]
  },
  {
   "cell_type": "code",
   "execution_count": null,
   "id": "e254e668-26a4-40af-915a-82b4a8bbb104",
   "metadata": {},
   "outputs": [],
   "source": []
  },
  {
   "cell_type": "markdown",
   "id": "36d3355b-49ea-4c44-8344-9a8e6a45719c",
   "metadata": {},
   "source": [
    "## train test split"
   ]
  },
  {
   "cell_type": "code",
   "execution_count": 17,
   "id": "98f708f9-58b1-4caf-8059-a2077f377305",
   "metadata": {},
   "outputs": [
    {
     "data": {
      "text/plain": [
       "(17434, 2)"
      ]
     },
     "execution_count": 17,
     "metadata": {},
     "output_type": "execute_result"
    }
   ],
   "source": [
    "file_path = 'processed_nfr_so.csv'  \n",
    "X = load_csv(file_path)  \n",
    "X.shape"
   ]
  },
  {
   "cell_type": "code",
   "execution_count": 18,
   "id": "0ee038a8-641f-4457-aa8f-6b163ed97d52",
   "metadata": {},
   "outputs": [],
   "source": [
    "# Assuming your dataset is stored in X  \n",
    "X_train, X_temp = train_test_split(X, test_size=0.4, random_state=42)  \n",
    "\n",
    "# Further split the temporary data into validation and test data  \n",
    "X_val, X_test = train_test_split(X_temp, test_size=0.5, random_state=42)  \n",
    "  "
   ]
  },
  {
   "cell_type": "code",
   "execution_count": 19,
   "id": "2a38587c-41c3-473b-aa8c-111b0324ceb1",
   "metadata": {},
   "outputs": [],
   "source": [
    "#X_train.size, X_val.size, X_test.size"
   ]
  },
  {
   "cell_type": "code",
   "execution_count": 20,
   "id": "8daa1a9f-c46b-48e6-88ba-21830f8491fc",
   "metadata": {},
   "outputs": [],
   "source": [
    "X_train.to_csv('processed_nfr_so_train.csv', index=False)\n",
    "X_val.to_csv('processed_nfr_so_val.csv', index=False) \n",
    "X_test.to_csv('processed_nfr_so_test.csv', index=False)  "
   ]
  },
  {
   "cell_type": "code",
   "execution_count": null,
   "id": "1a2c6b10-46ab-4f2b-87cb-4075aa2357e0",
   "metadata": {},
   "outputs": [],
   "source": []
  },
  {
   "cell_type": "markdown",
   "id": "d3f5ca93-a6c1-414a-925c-24ea016014bf",
   "metadata": {},
   "source": [
    "## get the few_shot_list"
   ]
  },
  {
   "cell_type": "code",
   "execution_count": 35,
   "id": "e505d3ff-a235-482f-9c35-a92599d63131",
   "metadata": {},
   "outputs": [
    {
     "data": {
      "text/plain": [
       "(123, 160, 3)"
      ]
     },
     "execution_count": 35,
     "metadata": {},
     "output_type": "execute_result"
    }
   ],
   "source": [
    "get_random_few_shot_list(\"promise\")\n",
    "array = np.load('./few_shot_list/promise_random.npy')  \n",
    "array.shape"
   ]
  },
  {
   "cell_type": "code",
   "execution_count": 36,
   "id": "b7be02b3-d195-491f-8874-a382dd01e459",
   "metadata": {},
   "outputs": [
    {
     "data": {
      "text/plain": [
       "(3487, 160, 2)"
      ]
     },
     "execution_count": 36,
     "metadata": {},
     "output_type": "execute_result"
    }
   ],
   "source": [
    "get_random_few_shot_list(\"nfr\")\n",
    "array = np.load('./few_shot_list/nfr_random.npy')  \n",
    "array.shape"
   ]
  },
  {
   "cell_type": "code",
   "execution_count": 37,
   "id": "ce6ea293-39ce-4556-b23f-db7e12f6196d",
   "metadata": {},
   "outputs": [
    {
     "name": "stderr",
     "output_type": "stream",
     "text": [
      "/Users/yongjiantang/Desktop/tang/code/re_genai/data/.env/lib/python3.10/site-packages/transformers/tokenization_utils_base.py:1617: FutureWarning: `clean_up_tokenization_spaces` was not set. It will be set to `True` by default. This behavior will be deprecated in transformers v4.45, and will be then set to `False` by default. For more details check this issue: https://github.com/huggingface/transformers/issues/31884\n",
      "  warnings.warn(\n"
     ]
    },
    {
     "data": {
      "text/plain": [
       "(123, 160, 3)"
      ]
     },
     "execution_count": 37,
     "metadata": {},
     "output_type": "execute_result"
    }
   ],
   "source": [
    "get_embedding_few_shot_list(\"promise\")\n",
    "array = np.load('./few_shot_list/promise_embedding.npy')  \n",
    "array.shape"
   ]
  },
  {
   "cell_type": "code",
   "execution_count": 24,
   "id": "6ca8dfcd-d1ed-4bfa-8863-44e30b29e28a",
   "metadata": {},
   "outputs": [
    {
     "data": {
      "text/plain": [
       "(3487, 160, 2)"
      ]
     },
     "execution_count": 24,
     "metadata": {},
     "output_type": "execute_result"
    }
   ],
   "source": [
    "get_embedding_few_shot_list(\"nfr\")\n",
    "array = np.load('./few_shot_list/nfr_embedding.npy')  \n",
    "array.shape"
   ]
  },
  {
   "cell_type": "code",
   "execution_count": 38,
   "id": "67f7e3e4-5483-4418-92de-837154ca8fc1",
   "metadata": {},
   "outputs": [
    {
     "data": {
      "text/plain": [
       "(123, 160, 3)"
      ]
     },
     "execution_count": 38,
     "metadata": {},
     "output_type": "execute_result"
    }
   ],
   "source": [
    "get_tfidf_few_shot_list(\"promise\")\n",
    "array = np.load('./few_shot_list/promise_tfidf.npy')  \n",
    "array.shape"
   ]
  },
  {
   "cell_type": "code",
   "execution_count": 26,
   "id": "b8415d4b-7e1e-4110-980d-280c617f5acd",
   "metadata": {},
   "outputs": [
    {
     "data": {
      "text/plain": [
       "(3487, 160, 2)"
      ]
     },
     "execution_count": 26,
     "metadata": {},
     "output_type": "execute_result"
    }
   ],
   "source": [
    "get_tfidf_few_shot_list(\"nfr\")\n",
    "array = np.load('./few_shot_list/nfr_tfidf.npy')  \n",
    "array.shape"
   ]
  },
  {
   "cell_type": "code",
   "execution_count": null,
   "id": "07c1f95c-b0c5-47d7-8f3e-5cf394b8deb6",
   "metadata": {},
   "outputs": [],
   "source": []
  },
  {
   "cell_type": "code",
   "execution_count": 27,
   "id": "10082b8e-9007-4d69-aa0c-4b877b095d7e",
   "metadata": {},
   "outputs": [
    {
     "data": {
      "text/plain": [
       "array([['Knex slow releasing connection to pool', 'Performance'],\n",
       "       ['Checkpoint linprog', 'Performance'],\n",
       "       ['Advanced JQ techniques', 'Performance'],\n",
       "       ['IBM Bluemix IoT Realtime Insights', 'Scalability'],\n",
       "       ['EntityFrameworkCore AddOrUpdate', 'Performance'],\n",
       "       ['APL readability', 'Maintainability'],\n",
       "       ['Hazelcast readiness probe', 'Security'],\n",
       "       ['Mochiweb + AMQP consumer concurrently', 'Scalability'],\n",
       "       ['Responsive Audio Player', 'Performance'],\n",
       "       ['CMake Roundtrip Workflow', 'Portability'],\n",
       "       ['ODATA V3 slowness', 'Performance'],\n",
       "       ['Ignoring ArrayIndexOutOfBoundsException', 'Performance'],\n",
       "       ['EKS Blue Green Deployments', 'Availability'],\n",
       "       ['OPCache misses equals num_cached_scripts', 'Performance'],\n",
       "       ['Paypal smart buttons price tampering', 'Security'],\n",
       "       ['completing a sparse timeline', 'Performance'],\n",
       "       ['Programmatically maintaining sitemaps', 'Maintainability'],\n",
       "       ['SecureBOOT, SecureBOOTLOADER', 'Security'],\n",
       "       ['fail2ban repeatedly sends notifications', 'Security'],\n",
       "       ['quartz jobDetail requestRecovery', 'Fault Tolerance']],\n",
       "      dtype='<U155')"
      ]
     },
     "execution_count": 27,
     "metadata": {},
     "output_type": "execute_result"
    }
   ],
   "source": [
    "array[1][:20]"
   ]
  },
  {
   "cell_type": "code",
   "execution_count": 34,
   "id": "e98a2f92-b2da-4da6-8d55-40d9ecdd43bf",
   "metadata": {},
   "outputs": [
    {
     "data": {
      "text/html": [
       "<div>\n",
       "<style scoped>\n",
       "    .dataframe tbody tr th:only-of-type {\n",
       "        vertical-align: middle;\n",
       "    }\n",
       "\n",
       "    .dataframe tbody tr th {\n",
       "        vertical-align: top;\n",
       "    }\n",
       "\n",
       "    .dataframe thead th {\n",
       "        text-align: right;\n",
       "    }\n",
       "</style>\n",
       "<table border=\"1\" class=\"dataframe\">\n",
       "  <thead>\n",
       "    <tr style=\"text-align: right;\">\n",
       "      <th></th>\n",
       "      <th>RequirementText</th>\n",
       "      <th>class</th>\n",
       "    </tr>\n",
       "  </thead>\n",
       "  <tbody>\n",
       "    <tr>\n",
       "      <th>0</th>\n",
       "      <td>What is faster, one complicated regular expres...</td>\n",
       "      <td>Scalability</td>\n",
       "    </tr>\n",
       "    <tr>\n",
       "      <th>1</th>\n",
       "      <td>Reset JDBC connections of Connection Pool in Java</td>\n",
       "      <td>Availability</td>\n",
       "    </tr>\n",
       "  </tbody>\n",
       "</table>\n",
       "</div>"
      ],
      "text/plain": [
       "                                     RequirementText         class\n",
       "0  What is faster, one complicated regular expres...   Scalability\n",
       "1  Reset JDBC connections of Connection Pool in Java  Availability"
      ]
     },
     "execution_count": 34,
     "metadata": {},
     "output_type": "execute_result"
    }
   ],
   "source": [
    "file_path = 'processed_nfr_so_test.csv'  \n",
    "X = load_csv(file_path)  \n",
    "X[:2]"
   ]
  },
  {
   "cell_type": "code",
   "execution_count": null,
   "id": "a323e99c-e0b5-4878-800b-be3e663b108e",
   "metadata": {},
   "outputs": [],
   "source": []
  },
  {
   "cell_type": "code",
   "execution_count": null,
   "id": "56216ff0-00f1-4488-a587-7bdd55a0f73e",
   "metadata": {},
   "outputs": [],
   "source": []
  },
  {
   "cell_type": "code",
   "execution_count": null,
   "id": "ad16c706-c4ee-4054-884f-1fcfcfd9ec36",
   "metadata": {},
   "outputs": [],
   "source": []
  },
  {
   "cell_type": "code",
   "execution_count": null,
   "id": "d5f1c194-20d5-44c3-b5ee-aaa489d600ef",
   "metadata": {},
   "outputs": [],
   "source": []
  }
 ],
 "metadata": {
  "kernelspec": {
   "display_name": "Python 3 (ipykernel)",
   "language": "python",
   "name": "python3"
  },
  "language_info": {
   "codemirror_mode": {
    "name": "ipython",
    "version": 3
   },
   "file_extension": ".py",
   "mimetype": "text/x-python",
   "name": "python",
   "nbconvert_exporter": "python",
   "pygments_lexer": "ipython3",
   "version": "3.10.11"
  }
 },
 "nbformat": 4,
 "nbformat_minor": 5
}
