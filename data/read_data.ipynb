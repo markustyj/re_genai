{
 "cells": [
  {
   "cell_type": "markdown",
   "id": "2c8f0db8-d7ce-436c-b37d-a93cbb1eda96",
   "metadata": {},
   "source": [
    "# load the datasets"
   ]
  },
  {
   "cell_type": "code",
   "execution_count": 5,
   "id": "b0d7b339-c176-4313-8894-61e2b80730b8",
   "metadata": {},
   "outputs": [],
   "source": [
    "import csv  \n",
    "import pandas as pd  \n",
    "import numpy as np\n",
    "from sklearn.model_selection import train_test_split  \n",
    "from few_shot_list_creation import *"
   ]
  },
  {
   "cell_type": "markdown",
   "id": "a0280db8-16ac-4b1c-807d-39cd9743bd94",
   "metadata": {},
   "source": [
    "## load the promise"
   ]
  },
  {
   "cell_type": "code",
   "execution_count": 13,
   "id": "3d6bb15c-f768-47ec-829a-730652057de8",
   "metadata": {},
   "outputs": [],
   "source": [
    "def load_csv(file_path):  \n",
    "    data = []  \n",
    "    with open(file_path, 'r') as file:  \n",
    "        csv_reader = csv.reader(file)  \n",
    "        for row in csv_reader:  \n",
    "            data.append(row)  \n",
    "    return data  \n",
    "\n",
    "file_path = 'promise-km-100-f.csv'  \n",
    "loaded_data = load_csv(file_path)  "
   ]
  },
  {
   "cell_type": "code",
   "execution_count": null,
   "id": "e3f41c76-48d0-4d09-a795-53e4ca831adc",
   "metadata": {},
   "outputs": [],
   "source": []
  },
  {
   "cell_type": "code",
   "execution_count": 19,
   "id": "4b76d542-5232-4a32-b39a-ed5fb1ed5a26",
   "metadata": {},
   "outputs": [],
   "source": [
    "def load_csv(file_path):  \n",
    "    data = pd.read_csv(file_path)  \n",
    "    return data  \n"
   ]
  },
  {
   "cell_type": "code",
   "execution_count": 15,
   "id": "29f16731-c8c7-4241-bbd7-6a6abf58c06e",
   "metadata": {
    "scrolled": true
   },
   "outputs": [],
   "source": [
    "file_path = 'promise-km-100-f.csv'  \n",
    "loaded_data = load_csv(file_path) "
   ]
  },
  {
   "cell_type": "code",
   "execution_count": 16,
   "id": "5e0df7d1-1400-4551-af7f-8fb975fbbf32",
   "metadata": {},
   "outputs": [
    {
     "data": {
      "text/plain": [
       "array(['PE', 'LF', 'US', 'A', 'SE', 'F', 'FT', 'SC', 'PO', 'O', 'L', 'MN'],\n",
       "      dtype=object)"
      ]
     },
     "execution_count": 16,
     "metadata": {},
     "output_type": "execute_result"
    }
   ],
   "source": [
    "loaded_data[\"Class\"].unique()"
   ]
  },
  {
   "cell_type": "code",
   "execution_count": 17,
   "id": "32133879-2fb2-46ea-8e20-2aea9f6aec13",
   "metadata": {},
   "outputs": [
    {
     "name": "stderr",
     "output_type": "stream",
     "text": [
      "/var/folders/kt/b1wyf_v11ds5q72l3gfs2lph0000gn/T/ipykernel_3812/3344572141.py:3: SettingWithCopyWarning: \n",
      "A value is trying to be set on a copy of a slice from a DataFrame.\n",
      "Try using .loc[row_indexer,col_indexer] = value instead\n",
      "\n",
      "See the caveats in the documentation: https://pandas.pydata.org/pandas-docs/stable/user_guide/indexing.html#returning-a-view-versus-a-copy\n",
      "  loaded_data_class[\"b_class\"] = \"F\"\n"
     ]
    },
    {
     "data": {
      "text/html": [
       "<div>\n",
       "<style scoped>\n",
       "    .dataframe tbody tr th:only-of-type {\n",
       "        vertical-align: middle;\n",
       "    }\n",
       "\n",
       "    .dataframe tbody tr th {\n",
       "        vertical-align: top;\n",
       "    }\n",
       "\n",
       "    .dataframe thead th {\n",
       "        text-align: right;\n",
       "    }\n",
       "</style>\n",
       "<table border=\"1\" class=\"dataframe\">\n",
       "  <thead>\n",
       "    <tr style=\"text-align: right;\">\n",
       "      <th></th>\n",
       "      <th>RequirementText</th>\n",
       "      <th>Class</th>\n",
       "      <th>b_class</th>\n",
       "    </tr>\n",
       "  </thead>\n",
       "  <tbody>\n",
       "    <tr>\n",
       "      <th>0</th>\n",
       "      <td>'The system shall refresh the display every 60...</td>\n",
       "      <td>PE</td>\n",
       "      <td>NF</td>\n",
       "    </tr>\n",
       "    <tr>\n",
       "      <th>1</th>\n",
       "      <td>'The application shall match the color of the ...</td>\n",
       "      <td>LF</td>\n",
       "      <td>NF</td>\n",
       "    </tr>\n",
       "    <tr>\n",
       "      <th>2</th>\n",
       "      <td>'If projected the data must be readable. On a ...</td>\n",
       "      <td>US</td>\n",
       "      <td>NF</td>\n",
       "    </tr>\n",
       "    <tr>\n",
       "      <th>3</th>\n",
       "      <td>'The product shall be available during normal ...</td>\n",
       "      <td>A</td>\n",
       "      <td>NF</td>\n",
       "    </tr>\n",
       "    <tr>\n",
       "      <th>4</th>\n",
       "      <td>'If projected the data must be understandable....</td>\n",
       "      <td>US</td>\n",
       "      <td>NF</td>\n",
       "    </tr>\n",
       "    <tr>\n",
       "      <th>5</th>\n",
       "      <td>'The product shall ensure that it can only be ...</td>\n",
       "      <td>SE</td>\n",
       "      <td>NF</td>\n",
       "    </tr>\n",
       "    <tr>\n",
       "      <th>6</th>\n",
       "      <td>'The product shall be intuitive and self-expla...</td>\n",
       "      <td>US</td>\n",
       "      <td>NF</td>\n",
       "    </tr>\n",
       "    <tr>\n",
       "      <th>7</th>\n",
       "      <td>'The product shall respond fast to keep up-to-...</td>\n",
       "      <td>PE</td>\n",
       "      <td>NF</td>\n",
       "    </tr>\n",
       "    <tr>\n",
       "      <th>8</th>\n",
       "      <td>'The system shall have a MDI form that allows ...</td>\n",
       "      <td>F</td>\n",
       "      <td>F</td>\n",
       "    </tr>\n",
       "    <tr>\n",
       "      <th>9</th>\n",
       "      <td>'The system shall display Events in a vertical...</td>\n",
       "      <td>F</td>\n",
       "      <td>F</td>\n",
       "    </tr>\n",
       "  </tbody>\n",
       "</table>\n",
       "</div>"
      ],
      "text/plain": [
       "                                     RequirementText Class b_class\n",
       "0  'The system shall refresh the display every 60...    PE      NF\n",
       "1  'The application shall match the color of the ...    LF      NF\n",
       "2  'If projected the data must be readable. On a ...    US      NF\n",
       "3  'The product shall be available during normal ...     A      NF\n",
       "4  'If projected the data must be understandable....    US      NF\n",
       "5  'The product shall ensure that it can only be ...    SE      NF\n",
       "6  'The product shall be intuitive and self-expla...    US      NF\n",
       "7  'The product shall respond fast to keep up-to-...    PE      NF\n",
       "8  'The system shall have a MDI form that allows ...     F       F\n",
       "9  'The system shall display Events in a vertical...     F       F"
      ]
     },
     "execution_count": 17,
     "metadata": {},
     "output_type": "execute_result"
    }
   ],
   "source": [
    "## create a new column for binary FR or NFR classification\n",
    "loaded_data_class = loaded_data[[\"RequirementText\", \"Class\"]]\n",
    "loaded_data_class[\"b_class\"] = \"F\"\n",
    "\n",
    "#selected_rows = loaded_data_class.loc[loaded_data_class['Class'] != 'FR']\n",
    "loaded_data_class.loc[loaded_data_class['Class'] != 'F', \"b_class\"] = \"NF\"\n",
    "\n",
    "loaded_data_class[:10]"
   ]
  },
  {
   "cell_type": "code",
   "execution_count": 18,
   "id": "7621604a-e03f-4b69-8bf4-9acbf1ae8507",
   "metadata": {},
   "outputs": [],
   "source": [
    "loaded_data_class.to_csv('processed_promise.csv', index=False)  "
   ]
  },
  {
   "cell_type": "markdown",
   "id": "78c59b68-5819-4721-a1d7-640e5b8e0640",
   "metadata": {},
   "source": [
    "### train test split"
   ]
  },
  {
   "cell_type": "code",
   "execution_count": 30,
   "id": "4995aeba-ef04-45d1-b041-161a5cef97f5",
   "metadata": {},
   "outputs": [
    {
     "data": {
      "text/plain": [
       "(625, 3)"
      ]
     },
     "execution_count": 30,
     "metadata": {},
     "output_type": "execute_result"
    }
   ],
   "source": [
    "file_path = 'processed_promise.csv'  \n",
    "X = load_csv(file_path)  \n",
    "X.shape"
   ]
  },
  {
   "cell_type": "code",
   "execution_count": 21,
   "id": "d8bfa67e-0601-48fa-b730-ac14bb183fb6",
   "metadata": {},
   "outputs": [],
   "source": [
    "# Assuming your dataset is stored in X  \n",
    "X_train, X_temp = train_test_split(X, test_size=0.4, random_state=42)  \n",
    "\n",
    "# Further split the temporary data into validation and test data  \n",
    "X_val, X_test = train_test_split(X_temp, test_size=0.5, random_state=42)  \n",
    "  "
   ]
  },
  {
   "cell_type": "code",
   "execution_count": 31,
   "id": "d81cfefb-3491-46eb-93a0-2028e50b9ca7",
   "metadata": {},
   "outputs": [],
   "source": [
    "X_train.to_csv('processed_promise_train.csv', index=False)\n",
    "X_val.to_csv('processed_promise_val.csv', index=False) \n",
    "X_test.to_csv('processed_promise_test.csv', index=False)  "
   ]
  },
  {
   "cell_type": "markdown",
   "id": "b7ad929e-c787-438c-b7e3-298f9d62b91f",
   "metadata": {},
   "source": [
    "# load so_nfr"
   ]
  },
  {
   "cell_type": "code",
   "execution_count": 10,
   "id": "6460eece-ca9d-4531-9738-5072fc938c24",
   "metadata": {},
   "outputs": [],
   "source": [
    "# Some requirements contain comma, use delimiter='!#!'"
   ]
  },
  {
   "cell_type": "code",
   "execution_count": 11,
   "id": "31c6e07d-3d76-45f1-8de4-e1cefcc9a47d",
   "metadata": {},
   "outputs": [
    {
     "name": "stderr",
     "output_type": "stream",
     "text": [
      "/var/folders/kt/b1wyf_v11ds5q72l3gfs2lph0000gn/T/ipykernel_20764/500133377.py:2: ParserWarning: Falling back to the 'python' engine because the 'c' engine does not support regex separators (separators > 1 char and different from '\\s+' are interpreted as regex); you can avoid this warning by specifying engine='python'.\n",
      "  loaded_data = pd.read_csv(file_path, delimiter='!#!', encoding='utf-8')\n"
     ]
    },
    {
     "data": {
      "text/html": [
       "<div>\n",
       "<style scoped>\n",
       "    .dataframe tbody tr th:only-of-type {\n",
       "        vertical-align: middle;\n",
       "    }\n",
       "\n",
       "    .dataframe tbody tr th {\n",
       "        vertical-align: top;\n",
       "    }\n",
       "\n",
       "    .dataframe thead th {\n",
       "        text-align: right;\n",
       "    }\n",
       "</style>\n",
       "<table border=\"1\" class=\"dataframe\">\n",
       "  <thead>\n",
       "    <tr style=\"text-align: right;\">\n",
       "      <th></th>\n",
       "      <th>RequirementText</th>\n",
       "      <th>class</th>\n",
       "    </tr>\n",
       "  </thead>\n",
       "  <tbody>\n",
       "    <tr>\n",
       "      <th>0</th>\n",
       "      <td>Why does NameNode HA use JournalNode instead o...</td>\n",
       "      <td>0</td>\n",
       "    </tr>\n",
       "    <tr>\n",
       "      <th>1</th>\n",
       "      <td>Configure Neo4j 1.9.3 in Spring for HighlyAvai...</td>\n",
       "      <td>0</td>\n",
       "    </tr>\n",
       "    <tr>\n",
       "      <th>2</th>\n",
       "      <td>ActiveMQ Artemis HA setup with SSL enabled</td>\n",
       "      <td>0</td>\n",
       "    </tr>\n",
       "    <tr>\n",
       "      <th>3</th>\n",
       "      <td>Automating High Availability and Disaster Reco...</td>\n",
       "      <td>0</td>\n",
       "    </tr>\n",
       "    <tr>\n",
       "      <th>4</th>\n",
       "      <td>How to ensure that the data in the consumption...</td>\n",
       "      <td>0</td>\n",
       "    </tr>\n",
       "    <tr>\n",
       "      <th>...</th>\n",
       "      <td>...</td>\n",
       "      <td>...</td>\n",
       "    </tr>\n",
       "    <tr>\n",
       "      <th>17429</th>\n",
       "      <td>Creating fault tolerant system - Use data file...</td>\n",
       "      <td>6</td>\n",
       "    </tr>\n",
       "    <tr>\n",
       "      <th>17430</th>\n",
       "      <td>Akka OneForOneStrategy does not work</td>\n",
       "      <td>6</td>\n",
       "    </tr>\n",
       "    <tr>\n",
       "      <th>17431</th>\n",
       "      <td>golang's hystrix library \"circuit open\" withou...</td>\n",
       "      <td>6</td>\n",
       "    </tr>\n",
       "    <tr>\n",
       "      <th>17432</th>\n",
       "      <td>Error while configuring EMS with Database in F...</td>\n",
       "      <td>6</td>\n",
       "    </tr>\n",
       "    <tr>\n",
       "      <th>17433</th>\n",
       "      <td>How does each backup/nodes get 2f replies in P...</td>\n",
       "      <td>6</td>\n",
       "    </tr>\n",
       "  </tbody>\n",
       "</table>\n",
       "<p>17434 rows × 2 columns</p>\n",
       "</div>"
      ],
      "text/plain": [
       "                                         RequirementText  class\n",
       "0      Why does NameNode HA use JournalNode instead o...      0\n",
       "1      Configure Neo4j 1.9.3 in Spring for HighlyAvai...      0\n",
       "2             ActiveMQ Artemis HA setup with SSL enabled      0\n",
       "3      Automating High Availability and Disaster Reco...      0\n",
       "4      How to ensure that the data in the consumption...      0\n",
       "...                                                  ...    ...\n",
       "17429  Creating fault tolerant system - Use data file...      6\n",
       "17430               Akka OneForOneStrategy does not work      6\n",
       "17431  golang's hystrix library \"circuit open\" withou...      6\n",
       "17432  Error while configuring EMS with Database in F...      6\n",
       "17433  How does each backup/nodes get 2f replies in P...      6\n",
       "\n",
       "[17434 rows x 2 columns]"
      ]
     },
     "execution_count": 11,
     "metadata": {},
     "output_type": "execute_result"
    }
   ],
   "source": [
    "file_path = 'so_nfr.csv'  \n",
    "loaded_data = pd.read_csv(file_path, delimiter='!#!', encoding='utf-8')  \n",
    "loaded_data"
   ]
  },
  {
   "cell_type": "code",
   "execution_count": 12,
   "id": "7a5cf566-bc52-4df2-8de1-6a617a9b835a",
   "metadata": {},
   "outputs": [
    {
     "data": {
      "text/plain": [
       "class\n",
       "1    6794\n",
       "5    5211\n",
       "4    2206\n",
       "3    1393\n",
       "0    1301\n",
       "2     295\n",
       "6     234\n",
       "Name: count, dtype: int64"
      ]
     },
     "execution_count": 12,
     "metadata": {},
     "output_type": "execute_result"
    }
   ],
   "source": [
    "#loaded_data['RequirementText!#!class'] = loaded_data['RequirementText!#!class'].apply(lambda x: str(x))\n",
    "loaded_data['class'].value_counts()"
   ]
  },
  {
   "cell_type": "code",
   "execution_count": 13,
   "id": "7ff9d212-3ce1-4438-87e0-5152515fe0d4",
   "metadata": {},
   "outputs": [],
   "source": [
    "loaded_data.to_csv('processed_nfr_so.csv', index=False)  "
   ]
  },
  {
   "cell_type": "code",
   "execution_count": null,
   "id": "e254e668-26a4-40af-915a-82b4a8bbb104",
   "metadata": {},
   "outputs": [],
   "source": []
  },
  {
   "cell_type": "markdown",
   "id": "36d3355b-49ea-4c44-8344-9a8e6a45719c",
   "metadata": {},
   "source": [
    "## train test split"
   ]
  },
  {
   "cell_type": "code",
   "execution_count": 33,
   "id": "98f708f9-58b1-4caf-8059-a2077f377305",
   "metadata": {},
   "outputs": [
    {
     "data": {
      "text/plain": [
       "(17434, 2)"
      ]
     },
     "execution_count": 33,
     "metadata": {},
     "output_type": "execute_result"
    }
   ],
   "source": [
    "file_path = 'processed_nfr_so.csv'  \n",
    "X = load_csv(file_path)  \n",
    "X.shape"
   ]
  },
  {
   "cell_type": "code",
   "execution_count": 34,
   "id": "0ee038a8-641f-4457-aa8f-6b163ed97d52",
   "metadata": {},
   "outputs": [],
   "source": [
    "# Assuming your dataset is stored in X  \n",
    "X_train, X_temp = train_test_split(X, test_size=0.4, random_state=42)  \n",
    "\n",
    "# Further split the temporary data into validation and test data  \n",
    "X_val, X_test = train_test_split(X_temp, test_size=0.5, random_state=42)  \n",
    "  "
   ]
  },
  {
   "cell_type": "code",
   "execution_count": 36,
   "id": "2a38587c-41c3-473b-aa8c-111b0324ceb1",
   "metadata": {},
   "outputs": [],
   "source": [
    "#X_train.size, X_val.size, X_test.size"
   ]
  },
  {
   "cell_type": "code",
   "execution_count": 37,
   "id": "8daa1a9f-c46b-48e6-88ba-21830f8491fc",
   "metadata": {},
   "outputs": [],
   "source": [
    "X_train.to_csv('processed_nfr_so_train.csv', index=False)\n",
    "X_val.to_csv('processed_nfr_so_val.csv', index=False) \n",
    "X_test.to_csv('processed_nfr_so_test.csv', index=False)  "
   ]
  },
  {
   "cell_type": "code",
   "execution_count": null,
   "id": "1a2c6b10-46ab-4f2b-87cb-4075aa2357e0",
   "metadata": {},
   "outputs": [],
   "source": []
  },
  {
   "cell_type": "markdown",
   "id": "d3f5ca93-a6c1-414a-925c-24ea016014bf",
   "metadata": {},
   "source": [
    "## get the few_shot_list"
   ]
  },
  {
   "cell_type": "code",
   "execution_count": 12,
   "id": "e505d3ff-a235-482f-9c35-a92599d63131",
   "metadata": {},
   "outputs": [
    {
     "data": {
      "text/plain": [
       "(125, 160, 3)"
      ]
     },
     "execution_count": 12,
     "metadata": {},
     "output_type": "execute_result"
    }
   ],
   "source": [
    "get_random_few_shot_list(\"promise\")\n",
    "array = np.load('./few_shot_list/promise_random.npy')  \n",
    "array.shape"
   ]
  },
  {
   "cell_type": "code",
   "execution_count": 13,
   "id": "b7be02b3-d195-491f-8874-a382dd01e459",
   "metadata": {},
   "outputs": [
    {
     "data": {
      "text/plain": [
       "(3487, 160, 2)"
      ]
     },
     "execution_count": 13,
     "metadata": {},
     "output_type": "execute_result"
    }
   ],
   "source": [
    "get_random_few_shot_list(\"nfr\")\n",
    "array = np.load('./few_shot_list/nfr_random.npy')  \n",
    "array.shape"
   ]
  },
  {
   "cell_type": "code",
   "execution_count": 14,
   "id": "ce6ea293-39ce-4556-b23f-db7e12f6196d",
   "metadata": {},
   "outputs": [
    {
     "data": {
      "text/plain": [
       "(125, 160, 3)"
      ]
     },
     "execution_count": 14,
     "metadata": {},
     "output_type": "execute_result"
    }
   ],
   "source": [
    "get_embedding_few_shot_list(\"promise\")\n",
    "array = np.load('./few_shot_list/promise_embedding.npy')  \n",
    "array.shape"
   ]
  },
  {
   "cell_type": "code",
   "execution_count": 15,
   "id": "6ca8dfcd-d1ed-4bfa-8863-44e30b29e28a",
   "metadata": {},
   "outputs": [
    {
     "data": {
      "text/plain": [
       "(3487, 160, 2)"
      ]
     },
     "execution_count": 15,
     "metadata": {},
     "output_type": "execute_result"
    }
   ],
   "source": [
    "get_embedding_few_shot_list(\"nfr\")\n",
    "array = np.load('./few_shot_list/nfr_embedding.npy')  \n",
    "array.shape"
   ]
  },
  {
   "cell_type": "code",
   "execution_count": null,
   "id": "67f7e3e4-5483-4418-92de-837154ca8fc1",
   "metadata": {},
   "outputs": [],
   "source": []
  },
  {
   "cell_type": "code",
   "execution_count": null,
   "id": "e98a2f92-b2da-4da6-8d55-40d9ecdd43bf",
   "metadata": {},
   "outputs": [],
   "source": [
    "file_path = 'processed_promise_test.csv'  \n",
    "X = load_csv(file_path)  \n",
    "X[1]"
   ]
  },
  {
   "cell_type": "code",
   "execution_count": null,
   "id": "a323e99c-e0b5-4878-800b-be3e663b108e",
   "metadata": {},
   "outputs": [],
   "source": []
  },
  {
   "cell_type": "code",
   "execution_count": null,
   "id": "56216ff0-00f1-4488-a587-7bdd55a0f73e",
   "metadata": {},
   "outputs": [],
   "source": []
  },
  {
   "cell_type": "code",
   "execution_count": 7,
   "id": "ce41a093-a693-444a-9314-1deafa273d47",
   "metadata": {},
   "outputs": [
    {
     "name": "stderr",
     "output_type": "stream",
     "text": [
      "/Users/yongjiantang/Desktop/tang/code/re_genai/data/.env/lib/python3.10/site-packages/sentence_transformers/cross_encoder/CrossEncoder.py:13: TqdmExperimentalWarning: Using `tqdm.autonotebook.tqdm` in notebook mode. Use `tqdm.tqdm` instead to force console mode (e.g. in jupyter console)\n",
      "  from tqdm.autonotebook import tqdm, trange\n"
     ]
    },
    {
     "data": {
      "application/vnd.jupyter.widget-view+json": {
       "model_id": "337a1ed9abe341f8b9c4955100da2359",
       "version_major": 2,
       "version_minor": 0
      },
      "text/plain": [
       "modules.json:   0%|          | 0.00/229 [00:00<?, ?B/s]"
      ]
     },
     "metadata": {},
     "output_type": "display_data"
    },
    {
     "data": {
      "application/vnd.jupyter.widget-view+json": {
       "model_id": "427d0c3b9b3b4bdf95c3e6845519ffa4",
       "version_major": 2,
       "version_minor": 0
      },
      "text/plain": [
       "config_sentence_transformers.json:   0%|          | 0.00/122 [00:00<?, ?B/s]"
      ]
     },
     "metadata": {},
     "output_type": "display_data"
    },
    {
     "data": {
      "application/vnd.jupyter.widget-view+json": {
       "model_id": "0fd645d5136a4a4a9a541ab7b5912cf1",
       "version_major": 2,
       "version_minor": 0
      },
      "text/plain": [
       "README.md:   0%|          | 0.00/3.73k [00:00<?, ?B/s]"
      ]
     },
     "metadata": {},
     "output_type": "display_data"
    },
    {
     "data": {
      "application/vnd.jupyter.widget-view+json": {
       "model_id": "55a0a257d20645a9a1830338f11976dd",
       "version_major": 2,
       "version_minor": 0
      },
      "text/plain": [
       "sentence_bert_config.json:   0%|          | 0.00/53.0 [00:00<?, ?B/s]"
      ]
     },
     "metadata": {},
     "output_type": "display_data"
    },
    {
     "data": {
      "application/vnd.jupyter.widget-view+json": {
       "model_id": "e7408e79da17475f95e4ff9229262fdf",
       "version_major": 2,
       "version_minor": 0
      },
      "text/plain": [
       "config.json:   0%|          | 0.00/629 [00:00<?, ?B/s]"
      ]
     },
     "metadata": {},
     "output_type": "display_data"
    },
    {
     "data": {
      "application/vnd.jupyter.widget-view+json": {
       "model_id": "12a6948ccb31488786c4166c569e4fed",
       "version_major": 2,
       "version_minor": 0
      },
      "text/plain": [
       "model.safetensors:   0%|          | 0.00/90.9M [00:00<?, ?B/s]"
      ]
     },
     "metadata": {},
     "output_type": "display_data"
    },
    {
     "data": {
      "application/vnd.jupyter.widget-view+json": {
       "model_id": "880bd328774a49e2bfc7e9621ef4c4f7",
       "version_major": 2,
       "version_minor": 0
      },
      "text/plain": [
       "tokenizer_config.json:   0%|          | 0.00/314 [00:00<?, ?B/s]"
      ]
     },
     "metadata": {},
     "output_type": "display_data"
    },
    {
     "data": {
      "application/vnd.jupyter.widget-view+json": {
       "model_id": "eb756994837b445cbf3d1903a3ae7cbc",
       "version_major": 2,
       "version_minor": 0
      },
      "text/plain": [
       "vocab.txt:   0%|          | 0.00/232k [00:00<?, ?B/s]"
      ]
     },
     "metadata": {},
     "output_type": "display_data"
    },
    {
     "data": {
      "application/vnd.jupyter.widget-view+json": {
       "model_id": "ae5aa92cb934439e9819d90739d8b134",
       "version_major": 2,
       "version_minor": 0
      },
      "text/plain": [
       "tokenizer.json:   0%|          | 0.00/466k [00:00<?, ?B/s]"
      ]
     },
     "metadata": {},
     "output_type": "display_data"
    },
    {
     "data": {
      "application/vnd.jupyter.widget-view+json": {
       "model_id": "bdff35c40f084fe6909aed0a2f1e20e2",
       "version_major": 2,
       "version_minor": 0
      },
      "text/plain": [
       "special_tokens_map.json:   0%|          | 0.00/112 [00:00<?, ?B/s]"
      ]
     },
     "metadata": {},
     "output_type": "display_data"
    },
    {
     "name": "stderr",
     "output_type": "stream",
     "text": [
      "/Users/yongjiantang/Desktop/tang/code/re_genai/data/.env/lib/python3.10/site-packages/transformers/tokenization_utils_base.py:1617: FutureWarning: `clean_up_tokenization_spaces` was not set. It will be set to `True` by default. This behavior will be deprecated in transformers v4.45, and will be then set to `False` by default. For more details check this issue: https://github.com/huggingface/transformers/issues/31884\n",
      "  warnings.warn(\n"
     ]
    },
    {
     "data": {
      "application/vnd.jupyter.widget-view+json": {
       "model_id": "dd439c6061d3457fb29433b85941f87a",
       "version_major": 2,
       "version_minor": 0
      },
      "text/plain": [
       "1_Pooling/config.json:   0%|          | 0.00/190 [00:00<?, ?B/s]"
      ]
     },
     "metadata": {},
     "output_type": "display_data"
    }
   ],
   "source": [
    "from sentence_transformers import SentenceTransformer\n",
    "model = SentenceTransformer('paraphrase-MiniLM-L6-v2')"
   ]
  },
  {
   "cell_type": "code",
   "execution_count": 10,
   "id": "a704004d-f5a4-411f-b5be-3686539f120e",
   "metadata": {},
   "outputs": [
    {
     "data": {
      "text/plain": [
       "(2, 384)"
      ]
     },
     "execution_count": 10,
     "metadata": {},
     "output_type": "execute_result"
    }
   ],
   "source": [
    "sentences = [\"This is an example sentence\", \"Each sentence is converted\"]\n",
    "embeddings = model.encode(sentences)\n",
    "embeddings.shape"
   ]
  },
  {
   "cell_type": "code",
   "execution_count": null,
   "id": "ad16c706-c4ee-4054-884f-1fcfcfd9ec36",
   "metadata": {},
   "outputs": [],
   "source": []
  },
  {
   "cell_type": "code",
   "execution_count": 44,
   "id": "5bc1bf33-d24c-46b9-9a71-db4a87dd9a1b",
   "metadata": {},
   "outputs": [],
   "source": [
    " "
   ]
  },
  {
   "cell_type": "code",
   "execution_count": 51,
   "id": "9d39e546-ec4a-4eee-b117-6b8197efbbdd",
   "metadata": {},
   "outputs": [
    {
     "data": {
      "text/plain": [
       "(626, 106)"
      ]
     },
     "execution_count": 51,
     "metadata": {},
     "output_type": "execute_result"
    }
   ],
   "source": [
    "\n",
    "file_path = './few_shot_list/processed_nfr_so_train.npy'\n",
    "np.save(file_path, np.array(loaded_data))\n",
    "\n",
    "array = np.load(file_path)  \n",
    "array.shape"
   ]
  },
  {
   "cell_type": "code",
   "execution_count": null,
   "id": "fadd4cc0-4655-4001-9b27-3ec219fd64f4",
   "metadata": {},
   "outputs": [],
   "source": []
  },
  {
   "cell_type": "code",
   "execution_count": 1,
   "id": "1b44a5c0-14ec-4068-a05e-e648f6c34ea7",
   "metadata": {},
   "outputs": [
    {
     "name": "stderr",
     "output_type": "stream",
     "text": [
      "/Users/yongjiantang/Desktop/tang/code/re_genai/data/.env/lib/python3.10/site-packages/sentence_transformers/cross_encoder/CrossEncoder.py:13: TqdmExperimentalWarning: Using `tqdm.autonotebook.tqdm` in notebook mode. Use `tqdm.tqdm` instead to force console mode (e.g. in jupyter console)\n",
      "  from tqdm.autonotebook import tqdm, trange\n"
     ]
    }
   ],
   "source": [
    "from few_shot_list_creation import *"
   ]
  },
  {
   "cell_type": "code",
   "execution_count": 4,
   "id": "815b4779-d709-4fa9-98dd-523898c01306",
   "metadata": {},
   "outputs": [
    {
     "data": {
      "text/plain": [
       "(160, 2)"
      ]
     },
     "execution_count": 4,
     "metadata": {},
     "output_type": "execute_result"
    }
   ],
   "source": [
    "get_random_few_shot_list(\"nfr\")\n",
    "array = np.load('./few_shot_list/nfr_random.npy')  \n",
    "array[0].shape"
   ]
  },
  {
   "cell_type": "code",
   "execution_count": 2,
   "id": "b1ff4f6f-f6dc-4e72-8a84-8e7ca62948bd",
   "metadata": {},
   "outputs": [
    {
     "name": "stderr",
     "output_type": "stream",
     "text": [
      "/Users/yongjiantang/Desktop/tang/code/re_genai/data/.env/lib/python3.10/site-packages/transformers/tokenization_utils_base.py:1617: FutureWarning: `clean_up_tokenization_spaces` was not set. It will be set to `True` by default. This behavior will be deprecated in transformers v4.45, and will be then set to `False` by default. For more details check this issue: https://github.com/huggingface/transformers/issues/31884\n",
      "  warnings.warn(\n"
     ]
    },
    {
     "data": {
      "text/plain": [
       "(125, 160, 3)"
      ]
     },
     "execution_count": 2,
     "metadata": {},
     "output_type": "execute_result"
    }
   ],
   "source": [
    "get_embedding_few_shot_list(\"promise\")\n",
    "array = np.load('./few_shot_list/promise_embedding.npy')  \n",
    "array.shape"
   ]
  },
  {
   "cell_type": "code",
   "execution_count": 4,
   "id": "0a881467-2c12-4472-807e-bee04194560e",
   "metadata": {},
   "outputs": [
    {
     "data": {
      "text/plain": [
       "[\"'Only users with Update access must be able to initiate dispute requests.'\",\n",
       " 'SE',\n",
       " 'NF']"
      ]
     },
     "execution_count": 4,
     "metadata": {},
     "output_type": "execute_result"
    }
   ],
   "source": [
    "file_path = 'processed_promise_test.csv'  \n",
    "X = load_csv(file_path)  \n",
    "X[1]"
   ]
  },
  {
   "cell_type": "code",
   "execution_count": null,
   "id": "ac330f5d-b5a6-4931-ab1f-01f06520d0de",
   "metadata": {},
   "outputs": [],
   "source": []
  }
 ],
 "metadata": {
  "kernelspec": {
   "display_name": "Python 3 (ipykernel)",
   "language": "python",
   "name": "python3"
  },
  "language_info": {
   "codemirror_mode": {
    "name": "ipython",
    "version": 3
   },
   "file_extension": ".py",
   "mimetype": "text/x-python",
   "name": "python",
   "nbconvert_exporter": "python",
   "pygments_lexer": "ipython3",
   "version": "3.10.11"
  }
 },
 "nbformat": 4,
 "nbformat_minor": 5
}
